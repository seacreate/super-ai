{
  "cells": [
    {
      "cell_type": "markdown",
      "metadata": {
        "id": "ec9puh9OM-7X"
      },
      "source": [
        "### 251 클래스, 객체, 인스턴스\n",
        "\n",
        "클래스, 객체, 인스턴스에 대해 설명해봅시다."
      ]
    },
    {
      "cell_type": "code",
      "execution_count": 6,
      "metadata": {
        "id": "Ta0MKbz9M_g-"
      },
      "outputs": [],
      "source": [
        "# 클래스, 객체, 인스턴스에 대해 설명해봅시다.\n",
        "# 파이썬에서는 모든 것이 객체다.\n",
        "class Human:\n",
        "    dna = True"
      ]
    },
    {
      "cell_type": "code",
      "execution_count": 19,
      "metadata": {},
      "outputs": [
        {
          "name": "stdout",
          "output_type": "stream",
          "text": [
            "<__main__.Human object at 0x7f6c36a0d180> <class '__main__.Human'>\n"
          ]
        }
      ],
      "source": [
        "a = Human()\n",
        "# def a():\n",
        "#     print(\"안녕하세요\")\n",
        "print(a, type(a))"
      ]
    },
    {
      "cell_type": "code",
      "execution_count": 12,
      "metadata": {},
      "outputs": [
        {
          "data": {
            "text/plain": [
              "[1, 2, 3, 4, 1, 2, 3]"
            ]
          },
          "execution_count": 12,
          "metadata": {},
          "output_type": "execute_result"
        }
      ],
      "source": [
        "a.reverse()\n",
        "a + [1,2,3]"
      ]
    },
    {
      "cell_type": "markdown",
      "metadata": {
        "id": "MKXCs4BaM_lX"
      },
      "source": [
        "### 252 클래스 정의\n",
        "\n",
        "비어있는 사람 (Human) 클래스를 \"정의\" 해보세요."
      ]
    },
    {
      "cell_type": "code",
      "execution_count": 14,
      "metadata": {
        "id": "oViemziHM_pf"
      },
      "outputs": [
        {
          "data": {
            "text/plain": [
              "True"
            ]
          },
          "execution_count": 14,
          "metadata": {},
          "output_type": "execute_result"
        }
      ],
      "source": [
        "# 코드작성\n",
        "class Human:\n",
        "    dna = True\n",
        "\n",
        "hchang = Human()\n",
        "hchang.dna"
      ]
    },
    {
      "cell_type": "code",
      "execution_count": 18,
      "metadata": {},
      "outputs": [
        {
          "name": "stdout",
          "output_type": "stream",
          "text": [
            "slie\n",
            "['__new__', '__repr__', '__hash__', '__str__', '__getattribute__', '__lt__', '__le__', '__eq__', '__ne__', '__gt__', '__ge__', '__iter__', '__mod__', '__rmod__', '__len__', '__getitem__', '__add__', '__mul__', '__rmul__', '__contains__', 'encode', 'replace', 'split', 'rsplit', 'join', 'capitalize', 'casefold', 'title', 'center', 'count', 'expandtabs', 'find', 'partition', 'index', 'ljust', 'lower', 'lstrip', 'rfind', 'rindex', 'rjust', 'rstrip', 'rpartition', 'splitlines', 'strip', 'swapcase', 'translate', 'upper', 'startswith', 'endswith', 'removeprefix', 'removesuffix', 'isascii', 'islower', 'isupper', 'istitle', 'isspace', 'isdecimal', 'isdigit', 'isnumeric', 'isalpha', 'isalnum', 'isidentifier', 'isprintable', 'zfill', 'format', 'format_map', '__format__', 'maketrans', '__sizeof__', '__getnewargs__', '__doc__', '__setattr__', '__delattr__', '__init__', '__reduce_ex__', '__reduce__', '__subclasshook__', '__init_subclass__', '__dir__', '__class__']\n"
          ]
        }
      ],
      "source": [
        "a = \"slie\"\n",
        "print(a)\n",
        "print(a.__dir__())"
      ]
    },
    {
      "cell_type": "markdown",
      "metadata": {
        "id": "XyIDWisoM_tD"
      },
      "source": [
        "### 253 인스턴스 생성\n",
        "\n",
        "사람 (Human) 클래스의 인스턴스를 \"생성\" 하고 이를 areum 변수로 바인딩해보세요."
      ]
    },
    {
      "cell_type": "code",
      "execution_count": 20,
      "metadata": {
        "id": "mF2RnuaIM_wv"
      },
      "outputs": [
        {
          "data": {
            "text/plain": [
              "<__main__.Human at 0x7f6c36a0cd60>"
            ]
          },
          "execution_count": 20,
          "metadata": {},
          "output_type": "execute_result"
        }
      ],
      "source": [
        "# 코드작성\n",
        "a = Human()\n",
        "a"
      ]
    },
    {
      "cell_type": "markdown",
      "metadata": {
        "id": "oRrlez7fM_0D"
      },
      "source": [
        "### 254 클래스 생성자-1\n",
        "\n",
        "사람 (Human) 클래스에 \"응애응애\"를 출력하는 생성자를 추가하세요.\n",
        "\n",
        "결과 예시  \n",
        "areum = Human()   \n",
        "응애응애"
      ]
    },
    {
      "cell_type": "code",
      "execution_count": 29,
      "metadata": {
        "colab": {
          "base_uri": "https://localhost:8080/"
        },
        "id": "ENEozYHdM_33",
        "outputId": "239438ca-0191-43d4-ceb5-839681ffbd03"
      },
      "outputs": [
        {
          "name": "stdout",
          "output_type": "stream",
          "text": [
            "응애응애\n",
            "dna: True\n",
            "name: hchang\n"
          ]
        }
      ],
      "source": [
        "# 코드작성\n",
        "class Human:\n",
        "    def __init__(self,name):\n",
        "        print(\"응애응애\")\n",
        "        self.dna = True\n",
        "        self.name = name\n",
        "\n",
        "    def info(self):\n",
        "        print(f\"dna: {self.dna}\")\n",
        "        print(f\"name: {self.name}\")\n",
        "\n",
        "\n",
        "a = Human(\"hchang\")\n",
        "a.dna\n",
        "a.info()"
      ]
    },
    {
      "cell_type": "markdown",
      "metadata": {
        "id": "fjpdhKw0NT1G"
      },
      "source": [
        "### 255 클래스 생성자-2\n",
        "\n",
        "사람 (Human) 클래스에 (이름, 나이, 성별)을 받는 생성자를 추가하세요."
      ]
    },
    {
      "cell_type": "code",
      "execution_count": 30,
      "metadata": {
        "colab": {
          "base_uri": "https://localhost:8080/"
        },
        "id": "zxEEcmDvNT5Z",
        "outputId": "bba98f5b-9769-412d-bca3-ca8365bdc848"
      },
      "outputs": [
        {
          "name": "stdout",
          "output_type": "stream",
          "text": [
            "hchang 13 남\n"
          ]
        }
      ],
      "source": [
        "# 코드작성\n",
        "class Human:\n",
        "    def __init__(self, name, age, gender):\n",
        "        self.name = name\n",
        "        self.age = age\n",
        "        self.gender = gender\n",
        "\n",
        "a = Human(\"hchang\", 13, \"남\")\n",
        "print(a.name, a.age, a.gender)"
      ]
    },
    {
      "cell_type": "markdown",
      "metadata": {
        "id": "JhRRDU7dM_-x"
      },
      "source": [
        "### 256 인스턴스 속성에 접근\n",
        "\n",
        "255에서 생성한 인스턴스의 이름, 나이, 성별을 출력하세요. 인스턴스 변수에 접근하여 값을 출력하면 됩니다.\n",
        "\n",
        "이름: 조아름, 나이: 25, 성별: 여자\n",
        "인스턴스 변수에 접근하여 값을 가져오는 예\n",
        "\n",
        "결과 예시 \n",
        "areum.age  \n",
        "25"
      ]
    },
    {
      "cell_type": "code",
      "execution_count": null,
      "metadata": {
        "colab": {
          "base_uri": "https://localhost:8080/"
        },
        "id": "MeM0JHEiNACW",
        "outputId": "2797644d-dd65-4359-85ee-06c01f31029d"
      },
      "outputs": [
        {
          "name": "stdout",
          "output_type": "stream",
          "text": [
            "25\n"
          ]
        }
      ],
      "source": [
        "# 코드작성"
      ]
    },
    {
      "cell_type": "markdown",
      "metadata": {
        "id": "SAe2xvHWNAMp"
      },
      "source": [
        "### 257 클래스 메소드 - 1\n",
        "\n",
        "사람 (Human) 클래스에서 이름, 나이, 성별을 출력하는 who() 메소드를 추가하세요.\n",
        "\n",
        "결과 예시  \n",
        "areum.who()  \n",
        "이름: 조아름, 나이: 25, 성별: 여자"
      ]
    },
    {
      "cell_type": "code",
      "execution_count": 31,
      "metadata": {
        "colab": {
          "base_uri": "https://localhost:8080/"
        },
        "id": "4nOkLeztNAPv",
        "outputId": "4ea75b05-4518-4ec9-d2cb-fce2665d8a13"
      },
      "outputs": [
        {
          "name": "stdout",
          "output_type": "stream",
          "text": [
            "이름: hchang, 나이: 13, 성별: 남\n"
          ]
        }
      ],
      "source": [
        "# 코드작성\n",
        "class Human:\n",
        "    def __init__(self, name, age, gender):\n",
        "        self.name = name\n",
        "        self.age = age\n",
        "        self.gender = gender\n",
        "\n",
        "    def who(self):\n",
        "        print(f\"이름: {self.name}, 나이: {self.age}, 성별: {self.gender}\")\n",
        "\n",
        "a = Human(\"hchang\", 13, \"남\")\n",
        "a.who()"
      ]
    },
    {
      "cell_type": "markdown",
      "metadata": {
        "id": "wN6dq8yNNAa-"
      },
      "source": [
        "### 258 클래스 메소드 - 2\n",
        "\n",
        "사람 (Human) 클래스에 (이름, 나이, 성별)을 받는 setInfo 메소드를 추가하세요.\n",
        "\n",
        "\\>>> areum = Human(\"모름\", 0, \"모름\")\n",
        "\n",
        "\\>>> areum.setInfo(\"아름\", 25, \"여자\")"
      ]
    },
    {
      "cell_type": "code",
      "execution_count": 32,
      "metadata": {
        "colab": {
          "base_uri": "https://localhost:8080/"
        },
        "id": "wIVSD989NAeq",
        "outputId": "cb431956-9369-40c8-8a59-9890f9cce155"
      },
      "outputs": [
        {
          "name": "stdout",
          "output_type": "stream",
          "text": [
            "이름: 아름, 나이: 34, 성별: 여자\n"
          ]
        }
      ],
      "source": [
        "# 코드작성\n",
        "class Human:\n",
        "    def __init__(self, name, age, gender):\n",
        "        self.name = name\n",
        "        self.age = age\n",
        "        self.gender = gender\n",
        "\n",
        "    def who(self):\n",
        "        print(f\"이름: {self.name}, 나이: {self.age}, 성별: {self.gender}\")\n",
        "\n",
        "    def setinfo(self,name,age,gender):\n",
        "        self.name = name\n",
        "        self.age = age\n",
        "        self.gender = gender\n",
        "\n",
        "a = Human(\"hchang\", 13, \"남\")\n",
        "a.setinfo(\"아름\", 34, \"여자\")\n",
        "a.who()"
      ]
    },
    {
      "cell_type": "code",
      "execution_count": 34,
      "metadata": {},
      "outputs": [],
      "source": [
        "del a"
      ]
    },
    {
      "cell_type": "code",
      "execution_count": 35,
      "metadata": {},
      "outputs": [
        {
          "ename": "NameError",
          "evalue": "name 'a' is not defined",
          "output_type": "error",
          "traceback": [
            "\u001b[0;31m---------------------------------------------------------------------------\u001b[0m",
            "\u001b[0;31mNameError\u001b[0m                                 Traceback (most recent call last)",
            "\u001b[1;32m/home/hchang/Documents/super-ai/Python실습/[실습]251_260_파이썬_클래스.ipynb Cell 21\u001b[0m in \u001b[0;36m<cell line: 1>\u001b[0;34m()\u001b[0m\n\u001b[0;32m----> <a href='vscode-notebook-cell:/home/hchang/Documents/super-ai/Python%EC%8B%A4%EC%8A%B5/%5B%E1%84%89%E1%85%B5%E1%86%AF%E1%84%89%E1%85%B3%E1%86%B8%5D251_260_%E1%84%91%E1%85%A1%E1%84%8B%E1%85%B5%E1%84%8A%E1%85%A5%E1%86%AB_%E1%84%8F%E1%85%B3%E1%86%AF%E1%84%85%E1%85%A2%E1%84%89%E1%85%B3.ipynb#X33sZmlsZQ%3D%3D?line=0'>1</a>\u001b[0m a\n",
            "\u001b[0;31mNameError\u001b[0m: name 'a' is not defined"
          ]
        }
      ],
      "source": [
        "a"
      ]
    },
    {
      "cell_type": "markdown",
      "metadata": {
        "id": "CVKul9MuOVci"
      },
      "source": [
        "### 259 클래스 소멸자\n",
        "\n",
        "사람 (human) 클래스에 \"나의 죽음을 알리지 말라\"를 출력하는 소멸자를 추가하세요.\n",
        "\n",
        "\\>>> areum = Human(\"아름\", 25, \"여자\")  \n",
        "\\>>> del areum  \n",
        "나의 죽음을 알리지 말라"
      ]
    },
    {
      "cell_type": "code",
      "execution_count": 36,
      "metadata": {
        "colab": {
          "base_uri": "https://localhost:8080/"
        },
        "id": "fm0FodmmACf0",
        "outputId": "68a5f638-ee4a-478a-91e6-9ece05bb7946"
      },
      "outputs": [
        {
          "name": "stdout",
          "output_type": "stream",
          "text": [
            "이름: 아름, 나이: 34, 성별: 여자\n",
            "나의 죽음을 알리지 말라!\n"
          ]
        }
      ],
      "source": [
        "# 코드작성\n",
        "class Human:\n",
        "    def __init__(self, name, age, gender):\n",
        "        self.name = name\n",
        "        self.age = age\n",
        "        self.gender = gender\n",
        "\n",
        "    def who(self):\n",
        "        print(f\"이름: {self.name}, 나이: {self.age}, 성별: {self.gender}\")\n",
        "\n",
        "    def setinfo(self,name,age,gender):\n",
        "        self.name = name\n",
        "        self.age = age\n",
        "        self.gender = gender\n",
        "\n",
        "    def __del__(self):\n",
        "        print(\"나의 죽음을 알리지 말라!\")\n",
        "\n",
        "        \n",
        "\n",
        "a = Human(\"hchang\", 13, \"남\")\n",
        "a.setinfo(\"아름\", 34, \"여자\")\n",
        "a.who()\n",
        "del a"
      ]
    },
    {
      "cell_type": "markdown",
      "metadata": {
        "id": "swX32b4rACom"
      },
      "source": [
        "### 260 에러의 원인\n",
        "\n",
        "아래와 같은 에러가 발생한 원인에 대해 설명하세요.\n",
        "\n"
      ]
    },
    {
      "cell_type": "code",
      "execution_count": 39,
      "metadata": {
        "colab": {
          "base_uri": "https://localhost:8080/",
          "height": 198
        },
        "id": "NOqbcF88ACxC",
        "outputId": "70335c22-bc42-4448-b7a5-8d165ccdeed7"
      },
      "outputs": [
        {
          "name": "stdout",
          "output_type": "stream",
          "text": [
            "Oh my god\n"
          ]
        }
      ],
      "source": [
        "# 아래와 같은 에러가 발생한 원인에 대해 설명하세요.\n",
        "\n",
        "# class OMG : \n",
        "#     def print() :\n",
        "#         print(\"Oh my god\")\n",
        "\n",
        "# >>> >>> myStock = OMG()\n",
        "# >>> myStock.print()\n",
        "# TypeError Traceback (most recent call last)\n",
        "# <ipython-input-233-c85c04535b22> in <module>()\n",
        "# ----> myStock.print()\n",
        "\n",
        "# TypeError: print() takes 0 positional arguments but 1 was given\n",
        "\n",
        "\n",
        "# 정답\n",
        "\n",
        "class OMG :\n",
        "    def print(self) :\n",
        "        print(\"Oh my god\")\n",
        "\n",
        "mystock = OMG()\n",
        "mystock.print()      # OMG.print(mystock)"
      ]
    },
    {
      "cell_type": "code",
      "execution_count": 38,
      "metadata": {},
      "outputs": [
        {
          "name": "stdout",
          "output_type": "stream",
          "text": [
            "Oh my god\n"
          ]
        }
      ],
      "source": [
        "OMG.print()"
      ]
    }
  ],
  "metadata": {
    "colab": {
      "provenance": []
    },
    "kernelspec": {
      "display_name": "Python 3.10.6 ('env')",
      "language": "python",
      "name": "python3"
    },
    "language_info": {
      "codemirror_mode": {
        "name": "ipython",
        "version": 3
      },
      "file_extension": ".py",
      "mimetype": "text/x-python",
      "name": "python",
      "nbconvert_exporter": "python",
      "pygments_lexer": "ipython3",
      "version": "3.10.6"
    },
    "vscode": {
      "interpreter": {
        "hash": "a39879ae9ccb927afc0cf2ce944a9e89e93d1a75059893b60dcfa8646ca8faf1"
      }
    }
  },
  "nbformat": 4,
  "nbformat_minor": 0
}
