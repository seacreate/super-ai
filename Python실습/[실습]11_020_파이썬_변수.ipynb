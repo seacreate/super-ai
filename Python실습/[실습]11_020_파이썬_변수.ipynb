{
  "cells": [
    {
      "cell_type": "markdown",
      "metadata": {
        "id": "yvmdk6dbYypa"
      },
      "source": [
        "https://wikidocs.net/book/922"
      ]
    },
    {
      "cell_type": "markdown",
      "metadata": {
        "id": "N5xQdo4KYzXB"
      },
      "source": [
        "### 011 변수 사용하기\n",
        "\n",
        "삼성전자라는 변수로 50,000원을 바인딩해보세요. 삼성전자 주식 10주를 보유하고 있을 때 총 평가금액을 출력하세요."
      ]
    },
    {
      "cell_type": "code",
      "execution_count": 3,
      "metadata": {
        "id": "ly4zJndhZNg_"
      },
      "outputs": [
        {
          "name": "stdout",
          "output_type": "stream",
          "text": [
            "500000\n"
          ]
        }
      ],
      "source": [
        "# 코드 작성\n",
        "samsung = 50000\n",
        "quantity = 10\n",
        "print(samsung * quantity)"
      ]
    },
    {
      "cell_type": "markdown",
      "metadata": {
        "id": "5-HvoV5aZSn4"
      },
      "source": [
        "### 012 변수 사용하기\n",
        "\n",
        "다음 표는 삼성전자의 일부 투자정보입니다. 변수를 사용해서 시가총액, 현재가, PER 등을 바인딩해보세요. 또한 type을 출력해보세요.\n",
        "\n",
        "시가총액: 298조  \n",
        "현재가: 50,000원  \n",
        "PER: 15.79"
      ]
    },
    {
      "cell_type": "code",
      "execution_count": null,
      "metadata": {
        "id": "IxCWzJT6ZcA-"
      },
      "outputs": [],
      "source": [
        "# 코드 작성\n"
      ]
    },
    {
      "cell_type": "markdown",
      "metadata": {
        "id": "bjLhJ98NZeOv"
      },
      "source": [
        "### 013 문자열 출력\n",
        "변수 s와 t에는 각각 문자열이 바인딩 되어있습니다.\n",
        "\n",
        "s = \"hello\"  \n",
        "t = \"python\"  \n",
        "두 변수를 이용하여 아래와 같이 출력해보세요.\n",
        "\n",
        "실행 예:\n",
        "hello! python\n"
      ]
    },
    {
      "cell_type": "code",
      "execution_count": null,
      "metadata": {
        "id": "XcVA1Sp0ZgWR"
      },
      "outputs": [],
      "source": [
        "# 코드 작성\n"
      ]
    },
    {
      "cell_type": "markdown",
      "metadata": {
        "id": "aaRAVFsHZixK"
      },
      "source": [
        "### 014 파이썬을 이용한 값 계산\n",
        "\n",
        "아래 코드의 실행 결과를 예상해보세요.\n",
        "\n",
        "2 + 2 * 3 "
      ]
    },
    {
      "cell_type": "code",
      "execution_count": null,
      "metadata": {
        "id": "5CJFMoAF9wfw"
      },
      "outputs": [],
      "source": [
        "# 코드 작성"
      ]
    },
    {
      "cell_type": "markdown",
      "metadata": {
        "id": "B31kDMUJZnDV"
      },
      "source": [
        "### 015 type 함수\n",
        "\n",
        "type() 함수는 데이터 타입을 판별합니다.  \n",
        "아래 변수에 바인딩된 값의 타입을 판별해보세요.  \n",
        "\n",
        "a = \"132\""
      ]
    },
    {
      "cell_type": "code",
      "execution_count": null,
      "metadata": {
        "id": "6Ow-R8QpZoRo"
      },
      "outputs": [],
      "source": [
        "# 코드 작성\n"
      ]
    },
    {
      "cell_type": "markdown",
      "metadata": {
        "id": "aW4whdzjaeWQ"
      },
      "source": [
        "### 016 문자열을 정수로 변환\n",
        "\n",
        "문자열 '720'를 정수형으로 변환해보세요.   \n",
        "num_str = \"720\"   \n",
        "또한, 변환한 정수형을 print함수 하나로 721로 만들어 보고, type을 알아보세요."
      ]
    },
    {
      "cell_type": "code",
      "execution_count": null,
      "metadata": {
        "id": "iyu3aAt8anxb"
      },
      "outputs": [],
      "source": [
        "# 코드 작성\n"
      ]
    },
    {
      "cell_type": "markdown",
      "metadata": {
        "id": "ATgir_hIafP0"
      },
      "source": [
        "### 017 정수를 문자열 100으로 변환\n",
        "\n",
        "정수 100을 문자열 '100'으로 변환해보고, 타입을 확인해 보세요.\n",
        "\n",
        "num = 100"
      ]
    },
    {
      "cell_type": "code",
      "execution_count": null,
      "metadata": {
        "id": "-_GIxZxsaxUx"
      },
      "outputs": [],
      "source": [
        "# 코드 작성\n"
      ]
    },
    {
      "cell_type": "markdown",
      "metadata": {
        "id": "a4OEh8eGazs6"
      },
      "source": [
        "### 018 문자열을 실수로 변환\n",
        "\n",
        "문자열 \"15.79\"를 실수(float) 타입으로 변환해보세요."
      ]
    },
    {
      "cell_type": "code",
      "execution_count": null,
      "metadata": {
        "id": "PBCfwygya5wE"
      },
      "outputs": [],
      "source": [
        "# 코드 작성\n"
      ]
    },
    {
      "cell_type": "markdown",
      "metadata": {
        "id": "yg3g9piKa_QH"
      },
      "source": [
        "### 019 문자열을 정수로 변환\n",
        "\n",
        "year라는 변수가 문자열 타입의 연도를 바인딩하고 있습니다. 이를 정수로 변환한 후 최근 3년의 연도를 화면에 출력해보세요.\n",
        "\n",
        "year = \"2020\""
      ]
    },
    {
      "cell_type": "code",
      "execution_count": null,
      "metadata": {
        "id": "HzOAVCLjbCO_"
      },
      "outputs": [],
      "source": [
        "# 코드 작성\n"
      ]
    },
    {
      "cell_type": "markdown",
      "metadata": {
        "id": "cFKLJXljbF5M"
      },
      "source": [
        "### 020 파이썬 계산\n",
        "\n",
        "에이컨이 월 48,584원에 무이자 36개월의 조건으로 홈쇼핑에서 판매되고 있습니다. 총 금액은 계산한 후 이를 화면에 출력해보세요. (변수사용하기)"
      ]
    },
    {
      "cell_type": "code",
      "execution_count": null,
      "metadata": {
        "id": "FCp_WH2WbJBa"
      },
      "outputs": [],
      "source": [
        "# 코드 작성\n"
      ]
    },
    {
      "cell_type": "code",
      "execution_count": 4,
      "metadata": {},
      "outputs": [
        {
          "name": "stdout",
          "output_type": "stream",
          "text": [
            "['안', '녕', '하', '세', '요', '?']\n"
          ]
        }
      ],
      "source": [
        "lst = list(\"안녕하세요?\")\n",
        "print(lst)"
      ]
    },
    {
      "cell_type": "code",
      "execution_count": 6,
      "metadata": {},
      "outputs": [
        {
          "name": "stdout",
          "output_type": "stream",
          "text": [
            "['안', 100, '하', '세', '요', '?']\n"
          ]
        }
      ],
      "source": [
        "lst[1] = 100\n",
        "print(lst)"
      ]
    },
    {
      "cell_type": "code",
      "execution_count": 9,
      "metadata": {},
      "outputs": [
        {
          "name": "stdout",
          "output_type": "stream",
          "text": [
            "<class 'list'>\n"
          ]
        }
      ],
      "source": [
        "print(type(lst))"
      ]
    },
    {
      "cell_type": "code",
      "execution_count": null,
      "metadata": {},
      "outputs": [],
      "source": []
    }
  ],
  "metadata": {
    "colab": {
      "provenance": []
    },
    "kernelspec": {
      "display_name": "Python 3.10.6 ('env')",
      "language": "python",
      "name": "python3"
    },
    "language_info": {
      "codemirror_mode": {
        "name": "ipython",
        "version": 3
      },
      "file_extension": ".py",
      "mimetype": "text/x-python",
      "name": "python",
      "nbconvert_exporter": "python",
      "pygments_lexer": "ipython3",
      "version": "3.10.6"
    },
    "vscode": {
      "interpreter": {
        "hash": "a39879ae9ccb927afc0cf2ce944a9e89e93d1a75059893b60dcfa8646ca8faf1"
      }
    }
  },
  "nbformat": 4,
  "nbformat_minor": 0
}
