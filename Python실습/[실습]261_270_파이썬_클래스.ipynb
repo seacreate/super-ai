{
  "cells": [
    {
      "cell_type": "markdown",
      "metadata": {
        "id": "ec9puh9OM-7X"
      },
      "source": [
        "### 261 Stock 클래스 생성\n",
        "\n",
        "주식 종목에 대한 정보를 저장하는 Stock 클래스를 정의해보세요. 클래스는 속성과 메서드를 갖고 있지 않습니다."
      ]
    },
    {
      "cell_type": "code",
      "execution_count": 1,
      "metadata": {
        "id": "Ta0MKbz9M_g-"
      },
      "outputs": [],
      "source": [
        "# 코드작성\n",
        "class Stock:\n",
        "    pass"
      ]
    },
    {
      "cell_type": "markdown",
      "metadata": {
        "id": "MKXCs4BaM_lX"
      },
      "source": [
        "### 262 생성자\n",
        "\n",
        "Stock 클래스의 객체가 생성될 때 종목명과 종목코드를 입력 받을 수 있도록 생성자를 정의해보세요.\n",
        "\n",
        "삼성 = Stock(\"삼성전자\", \"005930\")"
      ]
    },
    {
      "cell_type": "code",
      "execution_count": 3,
      "metadata": {
        "colab": {
          "base_uri": "https://localhost:8080/"
        },
        "id": "oViemziHM_pf",
        "outputId": "42a3a110-7957-4a35-aaf4-306f6707b6ee"
      },
      "outputs": [
        {
          "data": {
            "text/plain": [
              "('삼성전자', '005930')"
            ]
          },
          "execution_count": 3,
          "metadata": {},
          "output_type": "execute_result"
        }
      ],
      "source": [
        "# 코드작성\n",
        "class Stock:\n",
        "    def __init__(self, name, id):\n",
        "        self.name = name\n",
        "        self.id = id\n",
        "\n",
        "삼성 = Stock(\"삼성전자\", \"005930\")\n",
        "삼성.name, 삼성.id"
      ]
    },
    {
      "cell_type": "markdown",
      "metadata": {
        "id": "XyIDWisoM_tD"
      },
      "source": [
        "### 263 메서드\n",
        "\n",
        "객체에 종목명을 입력할 수 있는 set_name 메서드를 추가해보세요.\n",
        "\n",
        "a = Stock(None, None)  \n",
        "a.set_name(\"삼성전자\")"
      ]
    },
    {
      "cell_type": "code",
      "execution_count": 6,
      "metadata": {
        "colab": {
          "base_uri": "https://localhost:8080/"
        },
        "id": "mF2RnuaIM_wv",
        "outputId": "4d05d2d0-c9f6-44d6-b95e-b6d5de72ec31"
      },
      "outputs": [
        {
          "data": {
            "text/plain": [
              "('Samsung', None)"
            ]
          },
          "execution_count": 6,
          "metadata": {},
          "output_type": "execute_result"
        }
      ],
      "source": [
        "# 코드작성\n",
        "class Stock:\n",
        "    def __init__(self, name, id):\n",
        "        self.name = name\n",
        "        self.id = id\n",
        "\n",
        "    def set_name(self, name):\n",
        "        self.name = name\n",
        "\n",
        "삼성 = Stock(None, None)\n",
        "삼성.set_name(\"Samsung\")\n",
        "삼성.name, 삼성.id\n"
      ]
    },
    {
      "cell_type": "markdown",
      "metadata": {
        "id": "oRrlez7fM_0D"
      },
      "source": [
        "### 264 메서드\n",
        "\n",
        "객체에 종목코드를 입력할 수 있는 set_code 메서드를 추가해보세요.\n",
        "\n",
        "a = Stock(None, None)  \n",
        "a.set_code(\"005930\")"
      ]
    },
    {
      "cell_type": "code",
      "execution_count": 8,
      "metadata": {
        "colab": {
          "base_uri": "https://localhost:8080/"
        },
        "id": "ENEozYHdM_33",
        "outputId": "4cece8f1-5319-433c-e7fe-5e2be50cd738"
      },
      "outputs": [
        {
          "data": {
            "text/plain": [
              "('Samsung', '005930')"
            ]
          },
          "execution_count": 8,
          "metadata": {},
          "output_type": "execute_result"
        }
      ],
      "source": [
        "# 코드작성\n",
        "class Stock:\n",
        "    def __init__(self, name, id):\n",
        "        self.name = name\n",
        "        self.id = id\n",
        "\n",
        "    def set_name(self, name):\n",
        "        self.name = name\n",
        "\n",
        "    def set_code(self, id):\n",
        "        self.id = id\n",
        "\n",
        "삼성 = Stock(None, None)\n",
        "삼성.set_name(\"Samsung\")\n",
        "# 삼성.set_code(\"005930\")\n",
        "삼성.id = \"005930\"\n",
        "삼성.name, 삼성.id\n"
      ]
    },
    {
      "cell_type": "markdown",
      "metadata": {
        "id": "fjpdhKw0NT1G"
      },
      "source": [
        "### 265 메서드\n",
        "\n",
        "종목명과 종목코드를 리턴하는 get_name, get_code 메서드를 추가하세요. 해당 메서드를 사용하여 종목명과 종목코드를 얻고 이를 출력해보세요.\n",
        "\n",
        "삼성 = Stock(\"삼성전자\", \"005930\")"
      ]
    },
    {
      "cell_type": "code",
      "execution_count": 10,
      "metadata": {
        "colab": {
          "base_uri": "https://localhost:8080/"
        },
        "id": "zxEEcmDvNT5Z",
        "outputId": "d2a014d0-3537-48d6-f258-2098bdd8d589"
      },
      "outputs": [
        {
          "name": "stdout",
          "output_type": "stream",
          "text": [
            "Samsung 005930\n"
          ]
        }
      ],
      "source": [
        "# 코드작성\n",
        "class Stock:\n",
        "    def __init__(self, name, id):\n",
        "        self.name = name\n",
        "        self.id = id\n",
        "\n",
        "    def set_name(self, name):\n",
        "        self.name = name\n",
        "\n",
        "    def set_code(self, id):\n",
        "        self.id = id\n",
        "\n",
        "    def get_name(self):\n",
        "        return self.name\n",
        "\n",
        "    def get_code(self):\n",
        "        return self.id\n",
        "\n",
        "\n",
        "삼성 = Stock(None, None)\n",
        "삼성.set_name(\"Samsung\")\n",
        "# 삼성.set_code(\"005930\")\n",
        "삼성.id = \"005930\"\n",
        "print(삼성.get_name(), 삼성.get_code())"
      ]
    },
    {
      "cell_type": "markdown",
      "metadata": {
        "id": "JhRRDU7dM_-x"
      },
      "source": [
        "### 266 객체의 속성값 업데이트\n",
        "\n",
        "생성자에서 종목명, 종목코드, PER, PBR, 배당수익률을 입력 받을 수 있도록 생성자를 수정하세요. PER, PBR, 배당수익률은 float 타입입니다."
      ]
    },
    {
      "cell_type": "code",
      "execution_count": 11,
      "metadata": {
        "id": "MeM0JHEiNACW"
      },
      "outputs": [],
      "source": [
        "# 코드작성\n",
        "class Stock:\n",
        "    def __init__(self, name: str, id: str, per: float, pbr: float, dividend: float):\n",
        "        self.name = name\n",
        "        self.id = id\n",
        "        self.per = per\n",
        "        self.pbr = pbr\n",
        "        self.dividend = dividend\n",
        "\n",
        "    def set_name(self, name):\n",
        "        self.name = name\n",
        "\n",
        "    def set_code(self, id):\n",
        "        self.id = id\n",
        "\n",
        "    def get_name(self):\n",
        "        return self.name\n",
        "\n",
        "    def get_code(self):\n",
        "        return self.id"
      ]
    },
    {
      "cell_type": "markdown",
      "metadata": {
        "id": "SAe2xvHWNAMp"
      },
      "source": [
        "### 267 객체 생성\n",
        "\n",
        "266번에서 정의한 생성자를 통해 다음 정보를 갖는 객체를 생성해보세요.\n",
        "\n",
        "|항목|정보|\n",
        "|----|----|\n",
        "|종목명|삼성전자|\n",
        "|종목코드|005930|\n",
        "|PER|15.79|\n",
        "|PBR|1.33|\n",
        "|배당수익률|2.83|"
      ]
    },
    {
      "cell_type": "code",
      "execution_count": 12,
      "metadata": {
        "colab": {
          "base_uri": "https://localhost:8080/"
        },
        "id": "4nOkLeztNAPv",
        "outputId": "03010269-edc4-491f-c346-48d988f2d412"
      },
      "outputs": [
        {
          "name": "stdout",
          "output_type": "stream",
          "text": [
            "2.83\n"
          ]
        }
      ],
      "source": [
        "# 코드작성\n",
        "samsumg = Stock(\"삼성전자\",\"005930\",15.79,1.33,2.83)\n",
        "print(samsumg.dividend)"
      ]
    },
    {
      "cell_type": "markdown",
      "metadata": {
        "id": "wN6dq8yNNAa-"
      },
      "source": [
        "### 268 객체의 속성 수정\n",
        "\n",
        "PER, PBR, 배당수익률은 변경될 수 있는 값입니다. 이 값을 변경할 때 사용하는 set_per, set_pbr, set_dividend 메서드를 추가하세요."
      ]
    },
    {
      "cell_type": "code",
      "execution_count": 18,
      "metadata": {
        "id": "wIVSD989NAeq"
      },
      "outputs": [
        {
          "name": "stdout",
          "output_type": "stream",
          "text": [
            "2.83\n"
          ]
        }
      ],
      "source": [
        "# 코드작성\n",
        "class Stock:\n",
        "    def __init__(self, name: str, id: str, per: float, pbr: float, dividend: float):\n",
        "        self.name = name\n",
        "        self.id = id\n",
        "        self.per = per\n",
        "        self.pbr = pbr\n",
        "        self.dividend = dividend\n",
        "\n",
        "    def set(self, data, at):\n",
        "        if at==\"name\":\n",
        "            self.name = data\n",
        "        if at==\"id\":\n",
        "            self.id = data\n",
        "        if at==\"per\":\n",
        "            self.per = data\n",
        "        if at==\"pbr\":\n",
        "            self.pbr = data\n",
        "        if at==\"dividend\":\n",
        "            self.dividend = data\n",
        "\n",
        "    def get_name(self):\n",
        "        return self.name\n",
        "\n",
        "    def get_code(self):\n",
        "        return self.id\n",
        "\n",
        "samsung = Stock(\"삼성전자\",\"005930\",15.79,1.33,None)\n",
        "samsung.set(2.83, \"dividend\")\n",
        "print(samsumg.dividend)"
      ]
    },
    {
      "cell_type": "markdown",
      "metadata": {
        "id": "CVKul9MuOVci"
      },
      "source": [
        "### 269 객체의 속성 수정\n",
        "\n",
        "267번에서 생성한 객체에 set_per 메서드를 호출하여 per 값을 12.75로 수정해보세요."
      ]
    },
    {
      "cell_type": "code",
      "execution_count": 19,
      "metadata": {
        "colab": {
          "base_uri": "https://localhost:8080/"
        },
        "id": "fm0FodmmACf0",
        "outputId": "a2ef71af-6c10-43dc-c585-e7ea1facb231"
      },
      "outputs": [
        {
          "data": {
            "text/plain": [
              "12.75"
            ]
          },
          "execution_count": 19,
          "metadata": {},
          "output_type": "execute_result"
        }
      ],
      "source": [
        "# 코드작성\n",
        "samsung.set(12.75, \"per\")\n",
        "samsung.per\n"
      ]
    },
    {
      "cell_type": "markdown",
      "metadata": {
        "id": "swX32b4rACom"
      },
      "source": [
        "### 270 여러 종목의 객체 생성\n",
        "\n",
        "아래의 표를 참조하여 3종목에 대해 객체를 생성하고 이를 파이썬 리스트에 저장하세요.   \n",
        "파이썬 리스트에 저장된 각 종목에 대해 for 루프를 통해 종목코드와 PER을 출력해보세요.\n",
        "\n",
        "|종목명|종목코드|PER|PBR|배당수익률|\n",
        "|----|----|----|----|----|\n",
        "|삼성전자|005930|15.79|1.33|2.83|\n",
        "|현대차|005380|8.70|0.35|4.27|\n",
        "|LG전자|066570|317.34|0.69|1.37|\n"
      ]
    },
    {
      "cell_type": "code",
      "execution_count": 22,
      "metadata": {
        "colab": {
          "base_uri": "https://localhost:8080/"
        },
        "id": "NOqbcF88ACxC",
        "outputId": "66bc762e-accf-4d90-e78d-2b6ef201ee24"
      },
      "outputs": [
        {
          "name": "stdout",
          "output_type": "stream",
          "text": [
            "종목 이름: 삼성전자, 종목 코드: 005930\n",
            "종목 이름: 현대차, 종목 코드: 005380\n",
            "종목 이름: LG전자, 종목 코드: 066570\n"
          ]
        }
      ],
      "source": [
        "# 코드작성\n",
        "stocks = []\n",
        "stocks.append(Stock(\"삼성전자\",\"005930\",15.79,1.33,2.83))\n",
        "stocks.append(Stock(\"현대차\",\"005380\",8.70,0.35,4.27))\n",
        "stocks.append(Stock(\"LG전자\",\"066570\",317.34,0.69,1.37))\n",
        "\n",
        "for stock in stocks:\n",
        "    print(f\"종목 이름: {stock.name}, 종목 코드: {stock.id}\")"
      ]
    },
    {
      "cell_type": "code",
      "execution_count": null,
      "metadata": {},
      "outputs": [],
      "source": [
        "def solution(array):\n",
        "    answer = 0\n",
        "    for i in array:\n",
        "        for j in str(i):\n",
        "            if j=='7':\n",
        "                answer += 1\n",
        "    return answer"
      ]
    }
  ],
  "metadata": {
    "colab": {
      "provenance": []
    },
    "kernelspec": {
      "display_name": "Python 3.10.6 ('env')",
      "language": "python",
      "name": "python3"
    },
    "language_info": {
      "codemirror_mode": {
        "name": "ipython",
        "version": 3
      },
      "file_extension": ".py",
      "mimetype": "text/x-python",
      "name": "python",
      "nbconvert_exporter": "python",
      "pygments_lexer": "ipython3",
      "version": "3.10.6"
    },
    "vscode": {
      "interpreter": {
        "hash": "a39879ae9ccb927afc0cf2ce944a9e89e93d1a75059893b60dcfa8646ca8faf1"
      }
    }
  },
  "nbformat": 4,
  "nbformat_minor": 0
}
