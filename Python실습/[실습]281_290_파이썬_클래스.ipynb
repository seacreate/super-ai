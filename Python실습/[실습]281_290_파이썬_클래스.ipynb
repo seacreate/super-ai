{
  "cells": [
    {
      "cell_type": "markdown",
      "metadata": {
        "id": "ec9puh9OM-7X"
      },
      "source": [
        "### 281 클래스 정의\n",
        "\n",
        "다음 코드가 동작하도록 차 클래스를 정의하세요.\n",
        "\n",
        "\\>> car = 차(2, 1000)  \n",
        "\\>> car.바퀴  \n",
        "2  \n",
        "\\>> car.가격  \n",
        "1000"
      ]
    },
    {
      "cell_type": "code",
      "execution_count": 1,
      "metadata": {
        "colab": {
          "base_uri": "https://localhost:8080/"
        },
        "id": "Ta0MKbz9M_g-",
        "outputId": "a904bcbe-9330-46c2-9df1-a48844aa5d7b"
      },
      "outputs": [
        {
          "name": "stdout",
          "output_type": "stream",
          "text": [
            "2 1000\n"
          ]
        }
      ],
      "source": [
        "# 코드작성\n",
        "class 차:\n",
        "    def __init__(self, 바퀴, 가격):\n",
        "        self.바퀴 = 바퀴\n",
        "        self.가격 = 가격\n",
        "\n",
        "car = 차(2, 1000)\n",
        "print(car.바퀴, car.가격)"
      ]
    },
    {
      "cell_type": "markdown",
      "metadata": {
        "id": "MKXCs4BaM_lX"
      },
      "source": [
        "### 282 클래스 상속\n",
        "\n",
        "차 클래스를 상속받은 자전차 클래스를 정의하세요."
      ]
    },
    {
      "cell_type": "code",
      "execution_count": 6,
      "metadata": {
        "id": "oViemziHM_pf"
      },
      "outputs": [
        {
          "name": "stdout",
          "output_type": "stream",
          "text": [
            "2\n",
            "10000\n"
          ]
        }
      ],
      "source": [
        "# 코드작성\n",
        "class 자전차(차):\n",
        "    def __init__(self, circle, fee):\n",
        "        super().__init__(circle, fee)\n",
        "\n",
        "\n",
        "bicar = 자전차(2,10000)\n",
        "print(bicar.바퀴)\n",
        "print(bicar.가격)\n"
      ]
    },
    {
      "cell_type": "markdown",
      "metadata": {
        "id": "XyIDWisoM_tD"
      },
      "source": [
        "### 283 클래스 상속\n",
        "\n",
        "다음 코드가 동작하도록 자전차 클래스를 정의하세요. 단 자전차 클래스는 차 클래스를 상속받습니다.\n",
        "\n",
        "\\>> bicycle = 자전차(2, 100)  \n",
        "\\>> bicycle.가격  \n",
        "100"
      ]
    },
    {
      "cell_type": "code",
      "execution_count": null,
      "metadata": {
        "colab": {
          "base_uri": "https://localhost:8080/"
        },
        "id": "mF2RnuaIM_wv",
        "outputId": "ab5cf415-5688-46d7-ec6a-69caa2ab2918"
      },
      "outputs": [
        {
          "name": "stdout",
          "output_type": "stream",
          "text": [
            "100\n"
          ]
        }
      ],
      "source": [
        "# 코드작성"
      ]
    },
    {
      "cell_type": "markdown",
      "metadata": {
        "id": "oRrlez7fM_0D"
      },
      "source": [
        "### 284 클래스 상속\n",
        "\n",
        "다음 코드가 동작하도록 자전차 클래스를 정의하세요. 단 자전차 클래스는 차 클래스를 상속받습니다.\n",
        "\n",
        "\\>> bicycle = 자전차(2, 100, \"시마노\")  \n",
        "\\>> bicycle.구동계  \n",
        "시마노"
      ]
    },
    {
      "cell_type": "code",
      "execution_count": 7,
      "metadata": {
        "colab": {
          "base_uri": "https://localhost:8080/"
        },
        "id": "ENEozYHdM_33",
        "outputId": "4da8e9de-1361-4820-cce9-6c429b0995d5"
      },
      "outputs": [
        {
          "name": "stdout",
          "output_type": "stream",
          "text": [
            "10000 시마노\n"
          ]
        }
      ],
      "source": [
        "# 코드작성\n",
        "class 자전차(차):\n",
        "    def __init__(self, circle, fee, 구동계):\n",
        "        super().__init__(circle, fee)\n",
        "        self.구동계 = 구동계\n",
        "\n",
        "\n",
        "bicycle = 자전차(2,10000,\"시마노\")\n",
        "print(bicycle.가격, bicycle.구동계)"
      ]
    },
    {
      "cell_type": "markdown",
      "metadata": {
        "id": "fjpdhKw0NT1G"
      },
      "source": [
        "### 285 클래스 상속\n",
        "\n",
        "다음 코드가 동작하도록 차 클래스를 상속받는 자동차 클래스를 정의하세요.\n",
        "\n",
        "\\>> car = 자동차(4, 1000)  \n",
        "\\>> car.정보()  \n",
        "바퀴수 4  \n",
        "가격 1000"
      ]
    },
    {
      "cell_type": "code",
      "execution_count": 9,
      "metadata": {
        "colab": {
          "base_uri": "https://localhost:8080/"
        },
        "id": "zxEEcmDvNT5Z",
        "outputId": "8bd46f9c-323c-4fd4-adea-ef3212123a86"
      },
      "outputs": [
        {
          "name": "stdout",
          "output_type": "stream",
          "text": [
            "바퀴 수: 2\n",
            "가격:   10000\n"
          ]
        }
      ],
      "source": [
        "# 코드작성\n",
        "class 자전차(차):\n",
        "    def __init__(self, circle, fee, 구동계='시마노'):\n",
        "        super().__init__(circle, fee)\n",
        "        self.구동계 = 구동계\n",
        "\n",
        "    def 정보(self):\n",
        "        print(f\"바퀴 수: {self.바퀴}\")\n",
        "        print(f\"가격:   {self.가격}\")\n",
        "\n",
        "bicycle = 자전차(2,10000)\n",
        "bicycle.정보()"
      ]
    },
    {
      "cell_type": "markdown",
      "metadata": {
        "id": "JhRRDU7dM_-x"
      },
      "source": [
        "### 286 부모 클래스 생성자 호출\n",
        "\n",
        "다음 코드가 동작하도록 자전차 클래스를 수정하세요.\n",
        "\n",
        "\\>> bicycle = 자전차(2, 100, \"시마노\")  \n",
        "\\>> bicycle.정보()  \n",
        "바퀴수 2  \n",
        "가격 100"
      ]
    },
    {
      "cell_type": "code",
      "execution_count": 10,
      "metadata": {
        "colab": {
          "base_uri": "https://localhost:8080/"
        },
        "id": "MeM0JHEiNACW",
        "outputId": "7767489c-56e4-4aac-fa55-4ad550bac1e4"
      },
      "outputs": [
        {
          "name": "stdout",
          "output_type": "stream",
          "text": [
            "바퀴 수: 2\n",
            "가격:   10000\n"
          ]
        }
      ],
      "source": [
        "# 코드작성\n",
        "class 자전차(차):\n",
        "    def __init__(self, circle, fee, 구동계='시마노'):\n",
        "        super().__init__(circle, fee)\n",
        "        self.구동계 = 구동계\n",
        "\n",
        "    def 정보(self):\n",
        "        print(f\"바퀴 수: {self.바퀴}\")\n",
        "        print(f\"가격:   {self.가격}\")\n",
        "\n",
        "bicycle = 자전차(2,10000,\"시마노\")\n",
        "bicycle.정보()"
      ]
    },
    {
      "cell_type": "markdown",
      "metadata": {
        "id": "SAe2xvHWNAMp"
      },
      "source": [
        "### 287 부모 클래스 메서드 호출\n",
        "\n",
        "자전차의 정보() 메서드로 구동계 정보까지 출력하도록 수정해보세요.\n",
        "\n",
        "\\>> bicycle = 자전차(2, 100, \"시마노\")  \n",
        "\\>> bicycle.정보()  \n",
        "바퀴수 2  \n",
        "가격 100  \n",
        "구동계 시마노"
      ]
    },
    {
      "cell_type": "code",
      "execution_count": 11,
      "metadata": {
        "colab": {
          "base_uri": "https://localhost:8080/"
        },
        "id": "4nOkLeztNAPv",
        "outputId": "c54fc408-bf6b-43a8-c337-4655c86d35b3"
      },
      "outputs": [
        {
          "name": "stdout",
          "output_type": "stream",
          "text": [
            "바퀴 수: 2\n",
            "가격:   10000\n",
            "구동계:   시마노\n"
          ]
        }
      ],
      "source": [
        "# 코드작성\n",
        "# 코드작성\n",
        "class 자전차(차):\n",
        "    def __init__(self, circle, fee, 구동계='시마노'):\n",
        "        super().__init__(circle, fee)\n",
        "        self.구동계 = 구동계\n",
        "\n",
        "    def 정보(self):\n",
        "        print(f\"바퀴 수: {self.바퀴}\")\n",
        "        print(f\"가격:   {self.가격}\")\n",
        "        print(f\"구동계:   {self.구동계}\")\n",
        "\n",
        "\n",
        "bicycle = 자전차(2,10000,\"시마노\")\n",
        "bicycle.정보()"
      ]
    },
    {
      "cell_type": "markdown",
      "metadata": {
        "id": "wN6dq8yNNAa-"
      },
      "source": [
        "### 288 메서드 오버라이딩\n",
        "\n",
        "다음 코드의 실행 결과를 예상해보세요."
      ]
    },
    {
      "cell_type": "code",
      "execution_count": 13,
      "metadata": {
        "colab": {
          "base_uri": "https://localhost:8080/"
        },
        "id": "wIVSD989NAeq",
        "outputId": "8b54fca7-a04f-4476-9f25-081fc28d96ba"
      },
      "outputs": [
        {
          "name": "stdout",
          "output_type": "stream",
          "text": [
            "자식호출\n"
          ]
        }
      ],
      "source": [
        "class 부모:\n",
        "    def 호출(self):\n",
        "        print(\"부모호출\")\n",
        "\n",
        "class 자식(부모):\n",
        "    def 호출(self):\n",
        "        print(\"자식호출\")\n",
        "    # ...\n",
        "\n",
        "\n",
        "나 = 자식()\n",
        "나.호출()"
      ]
    },
    {
      "cell_type": "markdown",
      "metadata": {
        "id": "CVKul9MuOVci"
      },
      "source": [
        "### 289 생성자\n",
        "\n",
        "다음 코드의 실행 결과를 예상해보세요."
      ]
    },
    {
      "cell_type": "code",
      "execution_count": 14,
      "metadata": {
        "colab": {
          "base_uri": "https://localhost:8080/"
        },
        "id": "fm0FodmmACf0",
        "outputId": "d60c9cc5-28b2-43d1-c158-97274d7c9fe9"
      },
      "outputs": [
        {
          "name": "stdout",
          "output_type": "stream",
          "text": [
            "자식생성\n"
          ]
        }
      ],
      "source": [
        "class 부모:\n",
        "    def __init__(self):\n",
        "        print(\"부모생성\")\n",
        "\n",
        "class 자식(부모):\n",
        "    def __init__(self):\n",
        "        print(\"자식생성\")\n",
        "\n",
        "나 = 자식()"
      ]
    },
    {
      "cell_type": "markdown",
      "metadata": {
        "id": "swX32b4rACom"
      },
      "source": [
        "### 290 부모클래스 생성자 호출\n",
        "\n",
        "다음 코드의 실행 결과를 예상해보세요."
      ]
    },
    {
      "cell_type": "code",
      "execution_count": 15,
      "metadata": {
        "colab": {
          "base_uri": "https://localhost:8080/"
        },
        "id": "NOqbcF88ACxC",
        "outputId": "bacab75d-5816-4c89-effc-576753a962d5"
      },
      "outputs": [
        {
          "name": "stdout",
          "output_type": "stream",
          "text": [
            "자식생성\n",
            "부모생성\n"
          ]
        }
      ],
      "source": [
        "class 부모:\n",
        "    def __init__(self):\n",
        "        print(\"부모생성\")\n",
        "\n",
        "class 자식(부모):\n",
        "    def __init__(self):\n",
        "        print(\"자식생성\")\n",
        "        super().__init__()\n",
        "\n",
        "나 = 자식()"
      ]
    },
    {
      "cell_type": "code",
      "execution_count": null,
      "metadata": {},
      "outputs": [],
      "source": []
    }
  ],
  "metadata": {
    "colab": {
      "provenance": []
    },
    "kernelspec": {
      "display_name": "Python 3.10.6 ('env')",
      "language": "python",
      "name": "python3"
    },
    "language_info": {
      "codemirror_mode": {
        "name": "ipython",
        "version": 3
      },
      "file_extension": ".py",
      "mimetype": "text/x-python",
      "name": "python",
      "nbconvert_exporter": "python",
      "pygments_lexer": "ipython3",
      "version": "3.10.6"
    },
    "vscode": {
      "interpreter": {
        "hash": "a39879ae9ccb927afc0cf2ce944a9e89e93d1a75059893b60dcfa8646ca8faf1"
      }
    }
  },
  "nbformat": 4,
  "nbformat_minor": 0
}
