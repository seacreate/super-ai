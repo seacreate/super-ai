{
  "cells": [
    {
      "cell_type": "markdown",
      "metadata": {
        "id": "jFcIVnTIkji_"
      },
      "source": [
        "### 211\n",
        "\n",
        "함수의 호출 결과를 예측하라."
      ]
    },
    {
      "cell_type": "code",
      "execution_count": 1,
      "metadata": {},
      "outputs": [
        {
          "name": "stdout",
          "output_type": "stream",
          "text": [
            "100.5\n"
          ]
        }
      ],
      "source": [
        "def test(x: int):\n",
        "    print(x + 100)\n",
        "\n",
        "test(0.5)"
      ]
    },
    {
      "cell_type": "code",
      "execution_count": 4,
      "metadata": {
        "colab": {
          "base_uri": "https://localhost:8080/"
        },
        "id": "sxOAs0pQkn2B",
        "outputId": "81d489b9-8004-4076-8796-52bc9b2af480"
      },
      "outputs": [
        {
          "name": "stdout",
          "output_type": "stream",
          "text": [
            "안녕 \n",
            "Hi \n"
          ]
        },
        {
          "ename": "TypeError",
          "evalue": "unsupported operand type(s) for +: 'int' and 'str'",
          "output_type": "error",
          "traceback": [
            "\u001b[0;31m---------------------------------------------------------------------------\u001b[0m",
            "\u001b[0;31mTypeError\u001b[0m                                 Traceback (most recent call last)",
            "\u001b[1;32m/home/hchang/Documents/super-ai/Python실습/[실습]211_220_파이썬_함수.ipynb Cell 3\u001b[0m in \u001b[0;36m<cell line: 6>\u001b[0;34m()\u001b[0m\n\u001b[1;32m      <a href='vscode-notebook-cell:/home/hchang/Documents/super-ai/Python%EC%8B%A4%EC%8A%B5/%5B%E1%84%89%E1%85%B5%E1%86%AF%E1%84%89%E1%85%B3%E1%86%B8%5D211_220_%E1%84%91%E1%85%A1%E1%84%8B%E1%85%B5%E1%84%8A%E1%85%A5%E1%86%AB_%E1%84%92%E1%85%A1%E1%86%B7%E1%84%89%E1%85%AE.ipynb#W1sZmlsZQ%3D%3D?line=3'>4</a>\u001b[0m 함수(\u001b[39m\"\u001b[39m\u001b[39m안녕\u001b[39m\u001b[39m\"\u001b[39m)\n\u001b[1;32m      <a href='vscode-notebook-cell:/home/hchang/Documents/super-ai/Python%EC%8B%A4%EC%8A%B5/%5B%E1%84%89%E1%85%B5%E1%86%AF%E1%84%89%E1%85%B3%E1%86%B8%5D211_220_%E1%84%91%E1%85%A1%E1%84%8B%E1%85%B5%E1%84%8A%E1%85%A5%E1%86%AB_%E1%84%92%E1%85%A1%E1%86%B7%E1%84%89%E1%85%AE.ipynb#W1sZmlsZQ%3D%3D?line=4'>5</a>\u001b[0m 함수(\u001b[39m\"\u001b[39m\u001b[39mHi\u001b[39m\u001b[39m\"\u001b[39m)\n\u001b[0;32m----> <a href='vscode-notebook-cell:/home/hchang/Documents/super-ai/Python%EC%8B%A4%EC%8A%B5/%5B%E1%84%89%E1%85%B5%E1%86%AF%E1%84%89%E1%85%B3%E1%86%B8%5D211_220_%E1%84%91%E1%85%A1%E1%84%8B%E1%85%B5%E1%84%8A%E1%85%A5%E1%86%AB_%E1%84%92%E1%85%A1%E1%86%B7%E1%84%89%E1%85%AE.ipynb#W1sZmlsZQ%3D%3D?line=5'>6</a>\u001b[0m 함수(\u001b[39m100\u001b[39;49m)\n",
            "\u001b[1;32m/home/hchang/Documents/super-ai/Python실습/[실습]211_220_파이썬_함수.ipynb Cell 3\u001b[0m in \u001b[0;36m함수\u001b[0;34m(문자열)\u001b[0m\n\u001b[1;32m      <a href='vscode-notebook-cell:/home/hchang/Documents/super-ai/Python%EC%8B%A4%EC%8A%B5/%5B%E1%84%89%E1%85%B5%E1%86%AF%E1%84%89%E1%85%B3%E1%86%B8%5D211_220_%E1%84%91%E1%85%A1%E1%84%8B%E1%85%B5%E1%84%8A%E1%85%A5%E1%86%AB_%E1%84%92%E1%85%A1%E1%86%B7%E1%84%89%E1%85%AE.ipynb#W1sZmlsZQ%3D%3D?line=0'>1</a>\u001b[0m \u001b[39mdef\u001b[39;00m \u001b[39m함수\u001b[39m(문자열: \u001b[39mstr\u001b[39m) :\n\u001b[0;32m----> <a href='vscode-notebook-cell:/home/hchang/Documents/super-ai/Python%EC%8B%A4%EC%8A%B5/%5B%E1%84%89%E1%85%B5%E1%86%AF%E1%84%89%E1%85%B3%E1%86%B8%5D211_220_%E1%84%91%E1%85%A1%E1%84%8B%E1%85%B5%E1%84%8A%E1%85%A5%E1%86%AB_%E1%84%92%E1%85%A1%E1%86%B7%E1%84%89%E1%85%AE.ipynb#W1sZmlsZQ%3D%3D?line=1'>2</a>\u001b[0m     \u001b[39mprint\u001b[39m(문자열 \u001b[39m+\u001b[39;49m \u001b[39m\"\u001b[39;49m\u001b[39m \u001b[39;49m\u001b[39m\"\u001b[39;49m)\n",
            "\u001b[0;31mTypeError\u001b[0m: unsupported operand type(s) for +: 'int' and 'str'"
          ]
        }
      ],
      "source": [
        "def 함수(문자열: str) :\n",
        "    print(문자열 + \" \")\n",
        "\n",
        "함수(\"안녕\")\n",
        "함수(\"Hi\")\n",
        "함수(100)"
      ]
    },
    {
      "cell_type": "markdown",
      "metadata": {
        "id": "bjRmNTejkn-d"
      },
      "source": [
        "### 212\n",
        "\n",
        "함수의 호출 결과를 예측하라."
      ]
    },
    {
      "cell_type": "code",
      "execution_count": 6,
      "metadata": {
        "colab": {
          "base_uri": "https://localhost:8080/"
        },
        "id": "HYHmiPK1koCf",
        "outputId": "af6218e9-99a3-4498-c6e0-60c7ca858ae8"
      },
      "outputs": [
        {
          "name": "stdout",
          "output_type": "stream",
          "text": [
            "7\n",
            "15\n",
            "111\n"
          ]
        }
      ],
      "source": [
        "def 함수(a, b) :\n",
        "    print(a + b)\n",
        "\n",
        "함수(3, 4)\n",
        "함수(7, 8)\n",
        "함수(100, 11)"
      ]
    },
    {
      "cell_type": "markdown",
      "metadata": {
        "id": "dtTeZhJlkoGA"
      },
      "source": [
        "### 213\n",
        "\n",
        "아래와 같은 에러가 발생하는 원인을 설명하라."
      ]
    },
    {
      "cell_type": "code",
      "execution_count": 7,
      "metadata": {
        "id": "JR3ZcZ6ckoJs"
      },
      "outputs": [
        {
          "ename": "TypeError",
          "evalue": "함수() missing 1 required positional argument: '문자열'",
          "output_type": "error",
          "traceback": [
            "\u001b[0;31m---------------------------------------------------------------------------\u001b[0m",
            "\u001b[0;31mTypeError\u001b[0m                                 Traceback (most recent call last)",
            "\u001b[1;32m/home/hchang/Documents/super-ai/Python실습/[실습]211_220_파이썬_함수.ipynb Cell 7\u001b[0m in \u001b[0;36m<cell line: 3>\u001b[0;34m()\u001b[0m\n\u001b[1;32m      <a href='vscode-notebook-cell:/home/hchang/Documents/super-ai/Python%EC%8B%A4%EC%8A%B5/%5B%E1%84%89%E1%85%B5%E1%86%AF%E1%84%89%E1%85%B3%E1%86%B8%5D211_220_%E1%84%91%E1%85%A1%E1%84%8B%E1%85%B5%E1%84%8A%E1%85%A5%E1%86%AB_%E1%84%92%E1%85%A1%E1%86%B7%E1%84%89%E1%85%AE.ipynb#W5sZmlsZQ%3D%3D?line=0'>1</a>\u001b[0m \u001b[39mdef\u001b[39;00m \u001b[39m함수\u001b[39m(문자열) :\n\u001b[1;32m      <a href='vscode-notebook-cell:/home/hchang/Documents/super-ai/Python%EC%8B%A4%EC%8A%B5/%5B%E1%84%89%E1%85%B5%E1%86%AF%E1%84%89%E1%85%B3%E1%86%B8%5D211_220_%E1%84%91%E1%85%A1%E1%84%8B%E1%85%B5%E1%84%8A%E1%85%A5%E1%86%AB_%E1%84%92%E1%85%A1%E1%86%B7%E1%84%89%E1%85%AE.ipynb#W5sZmlsZQ%3D%3D?line=1'>2</a>\u001b[0m     \u001b[39mprint\u001b[39m(문자열)\n\u001b[0;32m----> <a href='vscode-notebook-cell:/home/hchang/Documents/super-ai/Python%EC%8B%A4%EC%8A%B5/%5B%E1%84%89%E1%85%B5%E1%86%AF%E1%84%89%E1%85%B3%E1%86%B8%5D211_220_%E1%84%91%E1%85%A1%E1%84%8B%E1%85%B5%E1%84%8A%E1%85%A5%E1%86%AB_%E1%84%92%E1%85%A1%E1%86%B7%E1%84%89%E1%85%AE.ipynb#W5sZmlsZQ%3D%3D?line=2'>3</a>\u001b[0m 함수()\n",
            "\u001b[0;31mTypeError\u001b[0m: 함수() missing 1 required positional argument: '문자열'"
          ]
        }
      ],
      "source": [
        "def 함수(문자열) :\n",
        "    print(문자열)\n",
        "함수()\n",
        "\n",
        "# 함수에 정의와 다르게 함수를 호출하고 있다. 함수를 호출할 때 하나의 파라미터를 입력해야한다."
      ]
    },
    {
      "cell_type": "markdown",
      "metadata": {
        "id": "BMxG_BI5koM1"
      },
      "source": [
        "### 214\n",
        "\n",
        "아래와 같은 에러가 발생하는 원인을 설명하라."
      ]
    },
    {
      "cell_type": "code",
      "execution_count": 8,
      "metadata": {
        "id": "JzIN-NPZkoRM"
      },
      "outputs": [
        {
          "ename": "TypeError",
          "evalue": "can only concatenate str (not \"int\") to str",
          "output_type": "error",
          "traceback": [
            "\u001b[0;31m---------------------------------------------------------------------------\u001b[0m",
            "\u001b[0;31mTypeError\u001b[0m                                 Traceback (most recent call last)",
            "\u001b[1;32m/home/hchang/Documents/super-ai/Python실습/[실습]211_220_파이썬_함수.ipynb Cell 9\u001b[0m in \u001b[0;36m<cell line: 4>\u001b[0;34m()\u001b[0m\n\u001b[1;32m      <a href='vscode-notebook-cell:/home/hchang/Documents/super-ai/Python%EC%8B%A4%EC%8A%B5/%5B%E1%84%89%E1%85%B5%E1%86%AF%E1%84%89%E1%85%B3%E1%86%B8%5D211_220_%E1%84%91%E1%85%A1%E1%84%8B%E1%85%B5%E1%84%8A%E1%85%A5%E1%86%AB_%E1%84%92%E1%85%A1%E1%86%B7%E1%84%89%E1%85%AE.ipynb#X10sZmlsZQ%3D%3D?line=0'>1</a>\u001b[0m \u001b[39mdef\u001b[39;00m \u001b[39m함수\u001b[39m(a, b) :\n\u001b[1;32m      <a href='vscode-notebook-cell:/home/hchang/Documents/super-ai/Python%EC%8B%A4%EC%8A%B5/%5B%E1%84%89%E1%85%B5%E1%86%AF%E1%84%89%E1%85%B3%E1%86%B8%5D211_220_%E1%84%91%E1%85%A1%E1%84%8B%E1%85%B5%E1%84%8A%E1%85%A5%E1%86%AB_%E1%84%92%E1%85%A1%E1%86%B7%E1%84%89%E1%85%AE.ipynb#X10sZmlsZQ%3D%3D?line=1'>2</a>\u001b[0m     \u001b[39mprint\u001b[39m(a \u001b[39m+\u001b[39m b)\n\u001b[0;32m----> <a href='vscode-notebook-cell:/home/hchang/Documents/super-ai/Python%EC%8B%A4%EC%8A%B5/%5B%E1%84%89%E1%85%B5%E1%86%AF%E1%84%89%E1%85%B3%E1%86%B8%5D211_220_%E1%84%91%E1%85%A1%E1%84%8B%E1%85%B5%E1%84%8A%E1%85%A5%E1%86%AB_%E1%84%92%E1%85%A1%E1%86%B7%E1%84%89%E1%85%AE.ipynb#X10sZmlsZQ%3D%3D?line=3'>4</a>\u001b[0m 함수(\u001b[39m\"\u001b[39;49m\u001b[39m안녕\u001b[39;49m\u001b[39m\"\u001b[39;49m, \u001b[39m3\u001b[39;49m)\n",
            "\u001b[1;32m/home/hchang/Documents/super-ai/Python실습/[실습]211_220_파이썬_함수.ipynb Cell 9\u001b[0m in \u001b[0;36m함수\u001b[0;34m(a, b)\u001b[0m\n\u001b[1;32m      <a href='vscode-notebook-cell:/home/hchang/Documents/super-ai/Python%EC%8B%A4%EC%8A%B5/%5B%E1%84%89%E1%85%B5%E1%86%AF%E1%84%89%E1%85%B3%E1%86%B8%5D211_220_%E1%84%91%E1%85%A1%E1%84%8B%E1%85%B5%E1%84%8A%E1%85%A5%E1%86%AB_%E1%84%92%E1%85%A1%E1%86%B7%E1%84%89%E1%85%AE.ipynb#X10sZmlsZQ%3D%3D?line=0'>1</a>\u001b[0m \u001b[39mdef\u001b[39;00m \u001b[39m함수\u001b[39m(a, b) :\n\u001b[0;32m----> <a href='vscode-notebook-cell:/home/hchang/Documents/super-ai/Python%EC%8B%A4%EC%8A%B5/%5B%E1%84%89%E1%85%B5%E1%86%AF%E1%84%89%E1%85%B3%E1%86%B8%5D211_220_%E1%84%91%E1%85%A1%E1%84%8B%E1%85%B5%E1%84%8A%E1%85%A5%E1%86%AB_%E1%84%92%E1%85%A1%E1%86%B7%E1%84%89%E1%85%AE.ipynb#X10sZmlsZQ%3D%3D?line=1'>2</a>\u001b[0m     \u001b[39mprint\u001b[39m(a \u001b[39m+\u001b[39;49m b)\n",
            "\u001b[0;31mTypeError\u001b[0m: can only concatenate str (not \"int\") to str"
          ]
        }
      ],
      "source": [
        "def 함수(a, b) :\n",
        "    print(a + b)\n",
        "\n",
        "함수(\"안녕\", 3)\n",
        "\n",
        "# "
      ]
    },
    {
      "cell_type": "markdown",
      "metadata": {
        "id": "kHpgD9cukoUu"
      },
      "source": [
        "### 215\n",
        "\n",
        "하나의 문자를 입력받아 문자열 끝에 \":D\" 스마일 문자열을 이어 붙여 출력하는 print_with_smile 함수를 정의하라."
      ]
    },
    {
      "cell_type": "code",
      "execution_count": 9,
      "metadata": {
        "id": "eNDywCWBkoXu"
      },
      "outputs": [
        {
          "name": "stdout",
          "output_type": "stream",
          "text": [
            "안녕하세요?:D\n"
          ]
        }
      ],
      "source": [
        "# 코드 작성\n",
        "def print_with_smile(input):\n",
        "    print(input + \":D\")\n",
        "\n",
        "print_with_smile(\"안녕하세요?\")"
      ]
    },
    {
      "cell_type": "markdown",
      "metadata": {
        "id": "zN36oinEkoj7"
      },
      "source": [
        "### 216\n",
        "\n",
        "215에서 정의한 함수를 호출하라. 파라미터는 \"안녕하세요\"로 입력하라."
      ]
    },
    {
      "cell_type": "code",
      "execution_count": 10,
      "metadata": {
        "id": "D-aGUrI_koo4"
      },
      "outputs": [
        {
          "name": "stdout",
          "output_type": "stream",
          "text": [
            "안녕하세요:D\n"
          ]
        }
      ],
      "source": [
        "# 코드 작성\n",
        "print_with_smile(\"안녕하세요\")"
      ]
    },
    {
      "cell_type": "markdown",
      "metadata": {
        "id": "rXvJXX5gkos6"
      },
      "source": [
        "### 217\n",
        "\n",
        "현재 가격을 입력 받아 상한가 (30%)를 출력하는 print_upper_price 함수를 정의하라."
      ]
    },
    {
      "cell_type": "code",
      "execution_count": 11,
      "metadata": {
        "id": "RFyEJxhKkown"
      },
      "outputs": [
        {
          "name": "stdout",
          "output_type": "stream",
          "text": [
            "74750.0\n"
          ]
        }
      ],
      "source": [
        "# 코드 작성\n",
        "def print_upper_price(now: float):\n",
        "    print(now * 1.3)\n",
        "print_upper_price(57500)"
      ]
    },
    {
      "cell_type": "markdown",
      "metadata": {
        "id": "SbWwpO4wko0Q"
      },
      "source": [
        "### 218\n",
        "\n",
        "두 개의 숫자를 입력받아 두 수의 합을 출력하는 print_sum 함수를 정의하라."
      ]
    },
    {
      "cell_type": "code",
      "execution_count": 13,
      "metadata": {
        "id": "Bdm5VkDFko3y"
      },
      "outputs": [
        {
          "name": "stdout",
          "output_type": "stream",
          "text": [
            "57\n"
          ]
        }
      ],
      "source": [
        "# 코드 작성\n",
        "def print_sum(a: int,b: int) -> None:\n",
        "    \"\"\"\n",
        "    두 수의 합을 출력합니다.\n",
        "    \"\"\"\n",
        "    print(a+b)\n",
        "\n",
        "print_sum(23,34)"
      ]
    },
    {
      "cell_type": "markdown",
      "metadata": {
        "id": "9_C4Rlofko8E"
      },
      "source": [
        "### 219\n",
        "\n",
        "두 개의 숫자를 입력받아 합/차/곱/나눗셈을 출력하는 print_arithmetic_operation 함수를 작성하라.   \n",
        "\n",
        "print_arithmetic_operation(3, 4)   \n",
        "3 + 4 = 7   \n",
        "3 - 4 = -1   \n",
        "3 * 4 = 12   \n",
        "3 / 4 = 0.75   "
      ]
    },
    {
      "cell_type": "code",
      "execution_count": 14,
      "metadata": {
        "id": "xl168Tdxko_q"
      },
      "outputs": [
        {
          "name": "stdout",
          "output_type": "stream",
          "text": [
            "3 + 4 = 7\n",
            "3 - 4 = -1\n",
            "3 x 4 = 12\n",
            "3 / 4 = 0.75\n"
          ]
        }
      ],
      "source": [
        "# 코드 작성\n",
        "def print_arithmetic_operation(a: int, b: int):\n",
        "    print(f\"{a} + {b} = {a+b}\")\n",
        "    print(f\"{a} - {b} = {a-b}\")\n",
        "    print(f\"{a} x {b} = {a*b}\")\n",
        "    print(f\"{a} / {b} = {a/b}\")\n",
        "print_arithmetic_operation(3,4)"
      ]
    },
    {
      "cell_type": "markdown",
      "metadata": {
        "id": "2-uaNdARkpCy"
      },
      "source": [
        "### 220\n",
        "\n",
        "세 개의 숫자를 입력받아 가장 큰수를 출력하는 print_max 함수를 정의하라. 단 if 문을 사용해서 수를 비교하라."
      ]
    },
    {
      "cell_type": "code",
      "execution_count": 17,
      "metadata": {
        "id": "t53w0UXlkpG9"
      },
      "outputs": [
        {
          "name": "stdout",
          "output_type": "stream",
          "text": [
            "400\n"
          ]
        }
      ],
      "source": [
        "# 코드 작성\n",
        "def print_max(a,b,c):\n",
        "    if a > b and a > c:\n",
        "        print(a)\n",
        "    elif a < b > c:\n",
        "        print(b)\n",
        "    else: print(c)\n",
        "\n",
        "print_max(400,26,112)"
      ]
    }
  ],
  "metadata": {
    "colab": {
      "provenance": []
    },
    "kernelspec": {
      "display_name": "Python 3.10.6 ('env')",
      "language": "python",
      "name": "python3"
    },
    "language_info": {
      "codemirror_mode": {
        "name": "ipython",
        "version": 3
      },
      "file_extension": ".py",
      "mimetype": "text/x-python",
      "name": "python",
      "nbconvert_exporter": "python",
      "pygments_lexer": "ipython3",
      "version": "3.10.6"
    },
    "vscode": {
      "interpreter": {
        "hash": "a39879ae9ccb927afc0cf2ce944a9e89e93d1a75059893b60dcfa8646ca8faf1"
      }
    }
  },
  "nbformat": 4,
  "nbformat_minor": 0
}
