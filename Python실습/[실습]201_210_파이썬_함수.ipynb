{
  "cells": [
    {
      "cell_type": "markdown",
      "metadata": {
        "id": "oeVOFWNHhY6R"
      },
      "source": [
        "### 201\n",
        "\n",
        "\"비트코인\" 문자열을 화면에 출력하는 print_coin() 함수를 정의하라."
      ]
    },
    {
      "cell_type": "code",
      "execution_count": 5,
      "metadata": {
        "colab": {
          "base_uri": "https://localhost:8080/"
        },
        "id": "Pncp33SghZxd",
        "outputId": "84aaf125-1e56-4749-db19-f17c2cae9700"
      },
      "outputs": [],
      "source": [
        "def print_coin():\n",
        "    print(\"비트코인\")"
      ]
    },
    {
      "cell_type": "markdown",
      "metadata": {
        "id": "EA9BfBz6hZ6o"
      },
      "source": [
        "### 202\n",
        "\n",
        "201번에서 정의한 함수를 호출하라."
      ]
    },
    {
      "cell_type": "code",
      "execution_count": 6,
      "metadata": {
        "id": "q8PZKKPhhZ-4"
      },
      "outputs": [
        {
          "name": "stdout",
          "output_type": "stream",
          "text": [
            "비트코인\n"
          ]
        }
      ],
      "source": [
        "# 코드 작성\n",
        "print_coin()"
      ]
    },
    {
      "cell_type": "markdown",
      "metadata": {
        "id": "IX2ydus_haC9"
      },
      "source": [
        "### 203\n",
        "\n",
        "201번에서 정의한 print_coin 함수를 100번호출하라."
      ]
    },
    {
      "cell_type": "code",
      "execution_count": 7,
      "metadata": {
        "id": "7cuvb1m9haHU"
      },
      "outputs": [
        {
          "name": "stdout",
          "output_type": "stream",
          "text": [
            "비트코인\n",
            "비트코인\n",
            "비트코인\n",
            "비트코인\n",
            "비트코인\n",
            "비트코인\n",
            "비트코인\n",
            "비트코인\n",
            "비트코인\n",
            "비트코인\n",
            "비트코인\n",
            "비트코인\n",
            "비트코인\n",
            "비트코인\n",
            "비트코인\n",
            "비트코인\n",
            "비트코인\n",
            "비트코인\n",
            "비트코인\n",
            "비트코인\n",
            "비트코인\n",
            "비트코인\n",
            "비트코인\n",
            "비트코인\n",
            "비트코인\n",
            "비트코인\n",
            "비트코인\n",
            "비트코인\n",
            "비트코인\n",
            "비트코인\n",
            "비트코인\n",
            "비트코인\n",
            "비트코인\n",
            "비트코인\n",
            "비트코인\n",
            "비트코인\n",
            "비트코인\n",
            "비트코인\n",
            "비트코인\n",
            "비트코인\n",
            "비트코인\n",
            "비트코인\n",
            "비트코인\n",
            "비트코인\n",
            "비트코인\n",
            "비트코인\n",
            "비트코인\n",
            "비트코인\n",
            "비트코인\n",
            "비트코인\n",
            "비트코인\n",
            "비트코인\n",
            "비트코인\n",
            "비트코인\n",
            "비트코인\n",
            "비트코인\n",
            "비트코인\n",
            "비트코인\n",
            "비트코인\n",
            "비트코인\n",
            "비트코인\n",
            "비트코인\n",
            "비트코인\n",
            "비트코인\n",
            "비트코인\n",
            "비트코인\n",
            "비트코인\n",
            "비트코인\n",
            "비트코인\n",
            "비트코인\n",
            "비트코인\n",
            "비트코인\n",
            "비트코인\n",
            "비트코인\n",
            "비트코인\n",
            "비트코인\n",
            "비트코인\n",
            "비트코인\n",
            "비트코인\n",
            "비트코인\n",
            "비트코인\n",
            "비트코인\n",
            "비트코인\n",
            "비트코인\n",
            "비트코인\n",
            "비트코인\n",
            "비트코인\n",
            "비트코인\n",
            "비트코인\n",
            "비트코인\n",
            "비트코인\n",
            "비트코인\n",
            "비트코인\n",
            "비트코인\n",
            "비트코인\n",
            "비트코인\n",
            "비트코인\n",
            "비트코인\n",
            "비트코인\n",
            "비트코인\n"
          ]
        }
      ],
      "source": [
        "# 코드 작성\n",
        "for i in range(100):\n",
        "    print_coin()"
      ]
    },
    {
      "cell_type": "markdown",
      "metadata": {
        "id": "QC8zU8k4haLJ"
      },
      "source": [
        "### 204\n",
        "\n",
        "\"비트코인\" 문자열을 100번 화면에 출력하는 print_coins() 함수를 정의하라."
      ]
    },
    {
      "cell_type": "code",
      "execution_count": 8,
      "metadata": {
        "id": "lYusfNqThaO4"
      },
      "outputs": [],
      "source": [
        "# 코드 작성\n",
        "def print_coins():\n",
        "    for i in range(100):\n",
        "        print(\"비트코인\")"
      ]
    },
    {
      "cell_type": "markdown",
      "metadata": {
        "id": "A5Of3seGhaSQ"
      },
      "source": [
        "### 205\n",
        "\n",
        "아래의 에러가 발생하는 이유에 대해 설명하라.   "
      ]
    },
    {
      "cell_type": "code",
      "execution_count": 10,
      "metadata": {
        "id": "b1KsoYu-haX5"
      },
      "outputs": [
        {
          "name": "stdout",
          "output_type": "stream",
          "text": [
            "Hi\n"
          ]
        }
      ],
      "source": [
        "def hello():\n",
        "    print(\"Hi\")\n",
        "\n",
        "hello()\n",
        "\n",
        "# "
      ]
    },
    {
      "cell_type": "markdown",
      "metadata": {
        "id": "9l4lS5_BhanF"
      },
      "source": [
        "### 206\n",
        "\n",
        "아래 코드의 실행 결과를 예측하라."
      ]
    },
    {
      "cell_type": "code",
      "execution_count": 11,
      "metadata": {
        "id": "hC7vtnCYharg"
      },
      "outputs": [
        {
          "name": "stdout",
          "output_type": "stream",
          "text": [
            "A\n",
            "B\n",
            "C\n",
            "A\n",
            "B\n"
          ]
        }
      ],
      "source": [
        "def message() :\n",
        "    print(\"A\")\n",
        "    print(\"B\")\n",
        "\n",
        "message()\n",
        "print(\"C\")\n",
        "message()"
      ]
    },
    {
      "cell_type": "markdown",
      "metadata": {
        "id": "POOjUYashawP"
      },
      "source": [
        "### 207\n",
        "\n",
        "아래 코드의 실행 결과를 예측하라. "
      ]
    },
    {
      "cell_type": "code",
      "execution_count": 12,
      "metadata": {
        "id": "-uLOqUQKha0Q"
      },
      "outputs": [
        {
          "name": "stdout",
          "output_type": "stream",
          "text": [
            "A\n",
            "C\n",
            "B\n"
          ]
        }
      ],
      "source": [
        "print(\"A\")\n",
        "\n",
        "def message() :\n",
        "    print(\"B\")\n",
        "\n",
        "print(\"C\")\n",
        "message()"
      ]
    },
    {
      "cell_type": "markdown",
      "metadata": {
        "id": "nANQmX9_ha4U"
      },
      "source": [
        "### 208\n",
        "\n",
        "아래 코드의 실행 결과를 예측하라."
      ]
    },
    {
      "cell_type": "code",
      "execution_count": 13,
      "metadata": {
        "id": "Hz7rKMYGha8k"
      },
      "outputs": [
        {
          "name": "stdout",
          "output_type": "stream",
          "text": [
            "A\n",
            "C\n",
            "B\n",
            "E\n",
            "D\n"
          ]
        }
      ],
      "source": [
        "print(\"A\")\n",
        "def message1() :\n",
        "    print(\"B\")\n",
        "print(\"C\")\n",
        "def message2() :\n",
        "    print(\"D\")\n",
        "message1()\n",
        "print(\"E\")\n",
        "message2()"
      ]
    },
    {
      "cell_type": "markdown",
      "metadata": {
        "id": "j__EbBgDhbBI"
      },
      "source": [
        "### 209\n",
        "\n",
        "아래 코드의 실행 결과를 예측하라."
      ]
    },
    {
      "cell_type": "code",
      "execution_count": 14,
      "metadata": {
        "id": "cOKWbAT0hbFU"
      },
      "outputs": [
        {
          "name": "stdout",
          "output_type": "stream",
          "text": [
            "B\n",
            "A\n"
          ]
        }
      ],
      "source": [
        "def message1():\n",
        "    print(\"A\")\n",
        "\n",
        "def message2():\n",
        "    print(\"B\")\n",
        "    message1()\n",
        "\n",
        "message2()"
      ]
    },
    {
      "cell_type": "markdown",
      "metadata": {
        "id": "hOssM8W7hbJk"
      },
      "source": [
        "### 210\n",
        "\n",
        "아래 코드의 실행 결과를 예측하라."
      ]
    },
    {
      "cell_type": "code",
      "execution_count": 15,
      "metadata": {
        "id": "KLG5C7xgiKuF"
      },
      "outputs": [
        {
          "name": "stdout",
          "output_type": "stream",
          "text": [
            "B\n",
            "C\n",
            "B\n",
            "C\n",
            "B\n",
            "C\n",
            "A\n"
          ]
        }
      ],
      "source": [
        "def message1():\n",
        "    print(\"A\")\n",
        "\n",
        "def message2():\n",
        "    print(\"B\")\n",
        "\n",
        "def message3():\n",
        "    for i in range (3) :\n",
        "        message2()\n",
        "        print(\"C\")\n",
        "    message1()\n",
        "\n",
        "message3()"
      ]
    },
    {
      "cell_type": "code",
      "execution_count": null,
      "metadata": {
        "id": "xGkaME-gjl2r"
      },
      "outputs": [],
      "source": []
    }
  ],
  "metadata": {
    "colab": {
      "provenance": []
    },
    "kernelspec": {
      "display_name": "Python 3.10.6 ('env')",
      "language": "python",
      "name": "python3"
    },
    "language_info": {
      "codemirror_mode": {
        "name": "ipython",
        "version": 3
      },
      "file_extension": ".py",
      "mimetype": "text/x-python",
      "name": "python",
      "nbconvert_exporter": "python",
      "pygments_lexer": "ipython3",
      "version": "3.10.6"
    },
    "vscode": {
      "interpreter": {
        "hash": "a39879ae9ccb927afc0cf2ce944a9e89e93d1a75059893b60dcfa8646ca8faf1"
      }
    }
  },
  "nbformat": 4,
  "nbformat_minor": 0
}
