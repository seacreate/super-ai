{
  "cells": [
    {
      "cell_type": "markdown",
      "metadata": {
        "id": "ZXUlPgjYoiTx"
      },
      "source": [
        "### 221\n",
        "\n",
        "입력된 문자열을 역순으로 출력하는 print_reverse 함수를 정의하라.   \n",
        "\n",
        "print_reverse(\"python\")   \n",
        "\n",
        "정답 예시   \n",
        "nohtyp   "
      ]
    },
    {
      "cell_type": "code",
      "execution_count": 1,
      "metadata": {
        "id": "LrMD1jDeojMz"
      },
      "outputs": [
        {
          "name": "stdout",
          "output_type": "stream",
          "text": [
            "nohtyp\n"
          ]
        }
      ],
      "source": [
        "# 슬라이싱을 사용하여 문자열을 역순으로 얻어올 수 있습니다.\n",
        "\n",
        "# 코드 작성\n",
        "def print_reverse(inp):\n",
        "    print(inp[::-1])\n",
        "\n",
        "print_reverse(\"python\")"
      ]
    },
    {
      "cell_type": "markdown",
      "metadata": {
        "id": "8NyVwGXEojQ2"
      },
      "source": [
        "### 222\n",
        "\n",
        "성적 리스트를 입력 받아 평균을 출력하는 print_score 함수를 정의하라.   \n",
        "\n",
        "print_score ([1, 2, 3])   \n",
        "\n",
        "정답 예시   \n",
        "2.0   "
      ]
    },
    {
      "cell_type": "code",
      "execution_count": 5,
      "metadata": {
        "id": "cve5kBFqojUi"
      },
      "outputs": [
        {
          "name": "stdout",
          "output_type": "stream",
          "text": [
            "3.0\n"
          ]
        }
      ],
      "source": [
        "# 코드 작성\n",
        "def print_average(*lst):\n",
        "    print(sum(lst)/len(lst))\n",
        "\n",
        "print_average(3)"
      ]
    },
    {
      "cell_type": "markdown",
      "metadata": {
        "id": "AH48-c4JojXx"
      },
      "source": [
        "### 223\n",
        "\n",
        "하나의 리스트를 입력받아 짝수만 화면에 출력하는 print_even 함수를 정의하라.   \n",
        "\n",
        "print_even ([1, 3, 2, 10, 12, 11, 15])   \n",
        "\n",
        "정답예시   \n",
        "2   \n",
        "10   \n",
        "12   "
      ]
    },
    {
      "cell_type": "code",
      "execution_count": 6,
      "metadata": {
        "id": "331Y2qdXojbm"
      },
      "outputs": [
        {
          "name": "stdout",
          "output_type": "stream",
          "text": [
            "2\n",
            "4\n",
            "2\n",
            "68\n"
          ]
        }
      ],
      "source": [
        "# 코드 작성\n",
        "def print_even(lst):\n",
        "    for i in lst:\n",
        "        if i % 2 == 0:\n",
        "            print(i)\n",
        "\n",
        "print_even([1,2,3,4,71,5,7,2,5,68,])"
      ]
    },
    {
      "cell_type": "markdown",
      "metadata": {
        "id": "yKGAe21MojfL"
      },
      "source": [
        "### 224\n",
        "\n",
        "하나의 딕셔너리를 입력받아 딕셔너리의 key 값을 화면에 출력하는 print_keys 함수를 정의하라.   \n",
        "\n",
        "print_keys ({\"이름\":\"김말똥\", \"나이\":30, \"성별\":0})   \n",
        "\n",
        "정답 예시    \n",
        "이름   \n",
        "나이   \n",
        "성별   "
      ]
    },
    {
      "cell_type": "code",
      "execution_count": 7,
      "metadata": {
        "id": "aheZlHqoojix"
      },
      "outputs": [
        {
          "name": "stdout",
          "output_type": "stream",
          "text": [
            "이름\n",
            "나이\n",
            "성별\n"
          ]
        }
      ],
      "source": [
        "# 코드 작성\n",
        "def print_keys(dict):\n",
        "    for i in dict:\n",
        "        print( i)\n",
        "\n",
        "print_keys({\"이름\":\"김말똥\", \"나이\":30, \"성별\":0})"
      ]
    },
    {
      "cell_type": "markdown",
      "metadata": {
        "id": "_qOWt9H7ojmR"
      },
      "source": [
        "### 225\n",
        "\n",
        "my_dict에는 날짜를 키값으로 OHLC가 리스트로 저장돼 있다.   \n",
        "\n",
        "my_dict = {\"10/26\" : [100, 130, 100, 100],   \n",
        "           \"10/27\" : [10, 12, 10, 11]}   \n",
        "my_dict와 날짜 키값을 입력받아 OHLC 리스트를 출력하는 print_value_by_key 함수를 정의하라.   \n",
        "\n",
        "정답 예시   \n",
        "print_value_by_key  (my_dict, \"10/26\")   \n",
        "[100, 130, 100, 100]   "
      ]
    },
    {
      "cell_type": "code",
      "execution_count": 8,
      "metadata": {
        "id": "Lv1CaaWbojpo"
      },
      "outputs": [
        {
          "name": "stdout",
          "output_type": "stream",
          "text": [
            "[100, 130, 100, 100]\n"
          ]
        }
      ],
      "source": [
        "my_dict = {\"10/26\" : [100, 130, 100, 100],   \n",
        "           \"10/27\" : [10, 12, 10, 11]} \n",
        "           \n",
        "# 코드 작성\n",
        "def print_value_by_key(dic, key):\n",
        "    print(dic[key])\n",
        "\n",
        "print_value_by_key(my_dict, \"10/26\")"
      ]
    },
    {
      "cell_type": "markdown",
      "metadata": {
        "id": "LcQdcAQ6ojsm"
      },
      "source": [
        "### 226\n",
        "\n",
        "입력 문자열을 한 줄에 다섯글자씩 출력하는 print_5xn(string) 함수를 작성하라.    \n",
        "\n",
        "print_5xn(\"아이엠어보이유알어걸\")    \n",
        "아이엠어보    \n",
        "이유알어걸    "
      ]
    },
    {
      "cell_type": "code",
      "execution_count": 17,
      "metadata": {
        "colab": {
          "base_uri": "https://localhost:8080/"
        },
        "id": "NTaWtEDXojvy",
        "outputId": "b5423403-037a-4bd0-d8e5-d539ddaff8ce"
      },
      "outputs": [
        {
          "name": "stdout",
          "output_type": "stream",
          "text": [
            "안녕하세요. 오늘 점심은 닭곰탕을 먹었습니다.\n",
            "\n",
            "안녕하세요\n",
            ". 오늘 \n",
            "점심은 닭\n",
            "곰탕을 먹\n",
            "었습니다.\n",
            "\n",
            "--------\n",
            "안녕하세요\n",
            ". 오늘 \n",
            "점심은 닭\n",
            "곰탕을 먹\n",
            "었습니다.\n",
            "\n",
            "!!!!!!!!\n",
            "안녕하세요\n",
            ". 오늘 \n",
            "점심은 닭\n",
            "곰탕을 먹\n",
            "었습니다.\n"
          ]
        }
      ],
      "source": [
        "from math import ceil\n",
        "\n",
        "# 코드 작성\n",
        "def print_5xn(string):\n",
        "    for i in string:\n",
        "        print(i,end='')\n",
        "        \n",
        "    print(\"\\n\")\n",
        "    for i in range(len(string)):\n",
        "        if i % 5==4:\n",
        "            print(string[i])\n",
        "        else:\n",
        "            print(string[i],end='')\n",
        "\n",
        "    print('\\n--------')\n",
        "    length = len(string)\n",
        "    for i in range(ceil(length/5)):\n",
        "        print(string[i*5:i*5+5])\n",
        "\n",
        "    print('\\n!!!!!!!!')\n",
        "    for i, c in enumerate(string):\n",
        "        if i % 5 == 4:\n",
        "            print(c)\n",
        "        else:\n",
        "            print(c,end='')\n",
        "\n",
        "\n",
        "\n",
        "\n",
        "print_5xn(\"안녕하세요. 오늘 점심은 닭곰탕을 먹었습니다.\")"
      ]
    },
    {
      "cell_type": "markdown",
      "metadata": {
        "id": "P-d1IjBDojy7"
      },
      "source": [
        "### 227\n",
        "\n",
        "문자열과 한줄에 출력될 글자 수를 입력을 받아 한 줄에 입력된 글자 수만큼 출력하는 print_mxn(string) 함수를 작성하라.   \n",
        "\n",
        "print_mxn(\"아이엠어보이유알어걸\", 3)   \n",
        "아이엠   \n",
        "어보이   \n",
        "유알어   \n",
        "걸   "
      ]
    },
    {
      "cell_type": "code",
      "execution_count": 25,
      "metadata": {
        "id": "ZCwtCmrKoj1t"
      },
      "outputs": [
        {
          "name": "stdout",
          "output_type": "stream",
          "text": [
            "문자열\n",
            "과 한\n",
            "줄에 \n",
            "출력될\n",
            " 글자\n",
            " 수를\n",
            " 입력\n",
            "을 받\n",
            "아 한\n",
            " 줄에\n",
            " 입력\n",
            "된 글\n",
            "자 수\n",
            "만큼 \n",
            "출력하\n",
            "는 p\n",
            "rin\n",
            "t_m\n",
            "xn(\n",
            "str\n",
            "ing\n",
            ") 함\n",
            "수를 \n",
            "작성하\n",
            "라.\n"
          ]
        }
      ],
      "source": [
        "# 코드 작성\n",
        "def print_mxn(string, m):\n",
        "    length = len(string)\n",
        "    share, remainder = length//m, length%m\n",
        "    if remainder > 0:\n",
        "        remainder = 1\n",
        "    for i in range(share+remainder):\n",
        "        print(string[i*m:i*m+m])\n",
        "\n",
        "\n",
        "print_mxn(\"문자열과 한줄에 출력될 글자 수를 입력을 받아 한 줄에 입력된 글자 수만큼 출력하는 print_mxn(string) 함수를 작성하라.\",3)"
      ]
    },
    {
      "cell_type": "markdown",
      "metadata": {
        "id": "V6a-1HjVoj4m"
      },
      "source": [
        "### 228\n",
        "\n",
        "연봉을 입력받아 월급을 계산하는 calc_monthly_salary(annual_salary) 함수를 정의하라.   \n",
        "회사는 연봉을 12개월로 나누어 분할 지급하며, 이 때 1원 미만은 버림한다.   \n",
        "\n",
        "calc_monthly_salary(12000000)   \n",
        "1000000   "
      ]
    },
    {
      "cell_type": "code",
      "execution_count": 27,
      "metadata": {
        "id": "ibi0Y_apoj77"
      },
      "outputs": [
        {
          "data": {
            "text/plain": [
              "10000000"
            ]
          },
          "execution_count": 27,
          "metadata": {},
          "output_type": "execute_result"
        }
      ],
      "source": [
        "# 입력된 값을 12로 나누고 형변환을 해서 1원 미만을 절사합니다.\n",
        "\n",
        "# 코드 작성\n",
        "def calc_monthly_salary(annual_salary):\n",
        "    return annual_salary//12\n",
        "\n",
        "calc_monthly_salary(120000000)"
      ]
    },
    {
      "cell_type": "markdown",
      "metadata": {
        "id": "ZLaUyInSoj_z"
      },
      "source": [
        "### 229\n",
        "\n",
        "아래 코드의 실행 결과를 예측하라."
      ]
    },
    {
      "cell_type": "code",
      "execution_count": 29,
      "metadata": {
        "id": "OHg-J86KokC-"
      },
      "outputs": [
        {
          "name": "stdout",
          "output_type": "stream",
          "text": [
            "왼쪽: 100\n",
            "오른쪽: 200\n"
          ]
        }
      ],
      "source": [
        "def my_print (a, b) :\n",
        "   print(\"왼쪽:\", a)\n",
        "   print(\"오른쪽:\", b)\n",
        "\n",
        "my_print(b=200,a=100)\n",
        "\n",
        "# 우선 아래의 기본 코드를 분석해 보겠습니다. 5번 라인에서 함수가 호출되면, 함수가 정의된 1번 라인으로 이동합니다. \n",
        "# 이 때 함수의 입력 변수 a에 100을 바인딩하고, b에 200을 바인딩합니다.\n",
        "\n",
        "#my_print(100, 200)\n",
        "#아래 코드는 함수가 호출될 때 a에 100, b에 200을 바인딩하라는 것을 명시적으로 표현한 코드입니다. 아래 코드는 문법만 다를 뿐 위 코드와 동일한 동작을 수행합니다.\n",
        "\n",
        "#my_print(a=100, b=200)\n",
        "#함수의 호출 결과는 아래와 같습니다.\n",
        "\n",
        "#왼쪽: 100\n",
        "#오른쪽: 200"
      ]
    },
    {
      "cell_type": "markdown",
      "metadata": {
        "id": "YJcs7-RgokFz"
      },
      "source": [
        "### 230\n",
        "\n",
        "아래 코드의 실행 결과를 예측하라."
      ]
    },
    {
      "cell_type": "code",
      "execution_count": 30,
      "metadata": {
        "id": "jWwxMi4bokIs"
      },
      "outputs": [
        {
          "name": "stdout",
          "output_type": "stream",
          "text": [
            "왼쪽: 200\n",
            "오른쪽: 100\n"
          ]
        }
      ],
      "source": [
        "def my_print (a, b) :\n",
        "   print(\"왼쪽:\", a)\n",
        "   print(\"오른쪽:\", b)\n",
        "\n",
        "my_print(b=100, a=200)\n",
        "\n",
        "#5 번 라인에서 함수를 호출하는데, a 변수에 200, b 변수에 100을 바인딩하라고 지정을 했습니다.\n",
        "#따라서 아래와 같이 출력됩니다.\n",
        "#왼쪽: 200\n",
        "#오른쪽: 100"
      ]
    }
  ],
  "metadata": {
    "colab": {
      "provenance": []
    },
    "kernelspec": {
      "display_name": "Python 3.10.6 ('env')",
      "language": "python",
      "name": "python3"
    },
    "language_info": {
      "codemirror_mode": {
        "name": "ipython",
        "version": 3
      },
      "file_extension": ".py",
      "mimetype": "text/x-python",
      "name": "python",
      "nbconvert_exporter": "python",
      "pygments_lexer": "ipython3",
      "version": "3.10.6"
    },
    "vscode": {
      "interpreter": {
        "hash": "a39879ae9ccb927afc0cf2ce944a9e89e93d1a75059893b60dcfa8646ca8faf1"
      }
    }
  },
  "nbformat": 4,
  "nbformat_minor": 0
}
