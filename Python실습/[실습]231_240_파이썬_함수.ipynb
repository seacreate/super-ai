{
  "cells": [
    {
      "cell_type": "markdown",
      "metadata": {
        "id": "h8UibqAfz8Th"
      },
      "source": [
        "### 231\n",
        "\n",
        "아래 코드를 실행한 결과를 예상하라."
      ]
    },
    {
      "cell_type": "code",
      "execution_count": 3,
      "metadata": {
        "colab": {
          "base_uri": "https://localhost:8080/",
          "height": 232
        },
        "id": "FGQ9Bnmo0DmT",
        "outputId": "71c75ceb-19f6-4b6f-b5db-32edc2e0326f"
      },
      "outputs": [
        {
          "name": "stdout",
          "output_type": "stream",
          "text": [
            "{'n': 3, 'result': 4}\n"
          ]
        },
        {
          "data": {
            "text/plain": [
              "{'__name__': '__main__',\n",
              " '__doc__': 'Automatically created module for IPython interactive environment',\n",
              " '__package__': None,\n",
              " '__loader__': None,\n",
              " '__spec__': None,\n",
              " '__builtin__': <module 'builtins' (built-in)>,\n",
              " '__builtins__': <module 'builtins' (built-in)>,\n",
              " '_ih': ['',\n",
              "  \"def n_plus_1 (n) :\\n    result = n + 1\\n\\nn_plus_1(3)\\nprint(result)\\n\\n# 에러가 발생합니다.\\n\\n# NameError: name 'result' is not defined\\n# 함수 내부에서 사용한 변수는 함수 밖에서는 접근이 불가능합니다.    \\n# 함수 내부에서 계산한 값을 전달하기 위해서는 return을 사용해야 합니다.   \",\n",
              "  \"def n_plus_1 (n) :\\n    result = n + 1\\n\\nn_plus_1(3)\\n# print(result)\\nglobals()\\n\\n# 에러가 발생합니다.\\n\\n# NameError: name 'result' is not defined\\n# 함수 내부에서 사용한 변수는 함수 밖에서는 접근이 불가능합니다.    \\n# 함수 내부에서 계산한 값을 전달하기 위해서는 return을 사용해야 합니다.   \",\n",
              "  \"def n_plus_1 (n) :\\n    result = n + 1\\n    print(locals())\\n\\nn_plus_1(3)\\n# print(result)\\nglobals()\\n\\n# 에러가 발생합니다.\\n\\n# NameError: name 'result' is not defined\\n# 함수 내부에서 사용한 변수는 함수 밖에서는 접근이 불가능합니다.    \\n# 함수 내부에서 계산한 값을 전달하기 위해서는 return을 사용해야 합니다.   \"],\n",
              " '_oh': {2: {...}},\n",
              " '_dh': [PosixPath('/home/hchang/Documents/super-ai/Python실습')],\n",
              " 'In': ['',\n",
              "  \"def n_plus_1 (n) :\\n    result = n + 1\\n\\nn_plus_1(3)\\nprint(result)\\n\\n# 에러가 발생합니다.\\n\\n# NameError: name 'result' is not defined\\n# 함수 내부에서 사용한 변수는 함수 밖에서는 접근이 불가능합니다.    \\n# 함수 내부에서 계산한 값을 전달하기 위해서는 return을 사용해야 합니다.   \",\n",
              "  \"def n_plus_1 (n) :\\n    result = n + 1\\n\\nn_plus_1(3)\\n# print(result)\\nglobals()\\n\\n# 에러가 발생합니다.\\n\\n# NameError: name 'result' is not defined\\n# 함수 내부에서 사용한 변수는 함수 밖에서는 접근이 불가능합니다.    \\n# 함수 내부에서 계산한 값을 전달하기 위해서는 return을 사용해야 합니다.   \",\n",
              "  \"def n_plus_1 (n) :\\n    result = n + 1\\n    print(locals())\\n\\nn_plus_1(3)\\n# print(result)\\nglobals()\\n\\n# 에러가 발생합니다.\\n\\n# NameError: name 'result' is not defined\\n# 함수 내부에서 사용한 변수는 함수 밖에서는 접근이 불가능합니다.    \\n# 함수 내부에서 계산한 값을 전달하기 위해서는 return을 사용해야 합니다.   \"],\n",
              " 'Out': {2: {...}},\n",
              " 'get_ipython': <bound method InteractiveShell.get_ipython of <ipykernel.zmqshell.ZMQInteractiveShell object at 0x7f9ad153a110>>,\n",
              " 'exit': <IPython.core.autocall.ZMQExitAutocall at 0x7f9ad13d20b0>,\n",
              " 'quit': <IPython.core.autocall.ZMQExitAutocall at 0x7f9ad13d20b0>,\n",
              " '_': {...},\n",
              " '__': '',\n",
              " '___': '',\n",
              " 'os': <module 'os' from '/usr/lib/python3.10/os.py'>,\n",
              " 'sys': <module 'sys' (built-in)>,\n",
              " '__vsc_ipynb_file__': '/home/hchang/Documents/super-ai/Python실습/[실습]231_240_파이썬_함수.ipynb',\n",
              " '_i': \"def n_plus_1 (n) :\\n    result = n + 1\\n\\nn_plus_1(3)\\n# print(result)\\nglobals()\\n\\n# 에러가 발생합니다.\\n\\n# NameError: name 'result' is not defined\\n# 함수 내부에서 사용한 변수는 함수 밖에서는 접근이 불가능합니다.    \\n# 함수 내부에서 계산한 값을 전달하기 위해서는 return을 사용해야 합니다.   \",\n",
              " '_ii': \"def n_plus_1 (n) :\\n    result = n + 1\\n\\nn_plus_1(3)\\nprint(result)\\n\\n# 에러가 발생합니다.\\n\\n# NameError: name 'result' is not defined\\n# 함수 내부에서 사용한 변수는 함수 밖에서는 접근이 불가능합니다.    \\n# 함수 내부에서 계산한 값을 전달하기 위해서는 return을 사용해야 합니다.   \",\n",
              " '_iii': '',\n",
              " '_i1': \"def n_plus_1 (n) :\\n    result = n + 1\\n\\nn_plus_1(3)\\nprint(result)\\n\\n# 에러가 발생합니다.\\n\\n# NameError: name 'result' is not defined\\n# 함수 내부에서 사용한 변수는 함수 밖에서는 접근이 불가능합니다.    \\n# 함수 내부에서 계산한 값을 전달하기 위해서는 return을 사용해야 합니다.   \",\n",
              " 'n_plus_1': <function __main__.n_plus_1(n)>,\n",
              " '_i2': \"def n_plus_1 (n) :\\n    result = n + 1\\n\\nn_plus_1(3)\\n# print(result)\\nglobals()\\n\\n# 에러가 발생합니다.\\n\\n# NameError: name 'result' is not defined\\n# 함수 내부에서 사용한 변수는 함수 밖에서는 접근이 불가능합니다.    \\n# 함수 내부에서 계산한 값을 전달하기 위해서는 return을 사용해야 합니다.   \",\n",
              " '_2': {...},\n",
              " '_i3': \"def n_plus_1 (n) :\\n    result = n + 1\\n    print(locals())\\n\\nn_plus_1(3)\\n# print(result)\\nglobals()\\n\\n# 에러가 발생합니다.\\n\\n# NameError: name 'result' is not defined\\n# 함수 내부에서 사용한 변수는 함수 밖에서는 접근이 불가능합니다.    \\n# 함수 내부에서 계산한 값을 전달하기 위해서는 return을 사용해야 합니다.   \"}"
            ]
          },
          "execution_count": 3,
          "metadata": {},
          "output_type": "execute_result"
        }
      ],
      "source": [
        "def n_plus_1 (n) :\n",
        "    result = n + 1\n",
        "    print(locals())\n",
        "\n",
        "n_plus_1(3)\n",
        "# print(result)\n",
        "globals()\n",
        "\n",
        "# 에러가 발생합니다.\n",
        "\n",
        "# NameError: name 'result' is not defined\n",
        "# 함수 내부에서 사용한 변수는 함수 밖에서는 접근이 불가능합니다.    \n",
        "# 함수 내부에서 계산한 값을 전달하기 위해서는 return을 사용해야 합니다.   "
      ]
    },
    {
      "cell_type": "markdown",
      "metadata": {
        "id": "0wXXJXTq0Dqj"
      },
      "source": [
        "### 232\n",
        "\n",
        "문자열 하나를 입력받아 인터넷 주소를 반환하는 make_url 함수를 정의하라.   \n",
        "\n",
        "make_url(\"naver\")   \n",
        "www.naver.com   "
      ]
    },
    {
      "cell_type": "code",
      "execution_count": 8,
      "metadata": {
        "colab": {
          "base_uri": "https://localhost:8080/",
          "height": 37
        },
        "id": "ZbhoYCZ50DuH",
        "outputId": "8704488c-71a7-499a-837e-5431724da0c5"
      },
      "outputs": [
        {
          "name": "stdout",
          "output_type": "stream",
          "text": [
            "www.naver.com\n"
          ]
        }
      ],
      "source": [
        "# 코드 작성\n",
        "def make_url(string: str) -> str:\n",
        "    return \"www.\"+string+\".com\"\n",
        "\n",
        "a = make_url(\"naver\")\n",
        "print(a)"
      ]
    },
    {
      "cell_type": "markdown",
      "metadata": {
        "id": "V6E4YIaD0D3b"
      },
      "source": [
        "### 233\n",
        "\n",
        "문자열을 입력받아 각 문자들로 구성된 리스트로 반환하는 make_list 함수를 정의하라.\n",
        "\n",
        "make_list(\"abcd\")\n",
        "['a', 'b', 'c', 'd']"
      ]
    },
    {
      "cell_type": "code",
      "execution_count": 9,
      "metadata": {
        "colab": {
          "base_uri": "https://localhost:8080/"
        },
        "id": "ApMi6Ag70D6F",
        "outputId": "9a2102b6-1938-4dae-df67-d88599115c64"
      },
      "outputs": [
        {
          "data": {
            "text/plain": [
              "['a', 'b', 'c', 'd']"
            ]
          },
          "execution_count": 9,
          "metadata": {},
          "output_type": "execute_result"
        }
      ],
      "source": [
        "# 비어있는 리스트에 문자열을 하나씩 추가합니다. 이어서 리스트를 반환 (return) 합니다.\n",
        "\n",
        "# 코드 작성\n",
        "\n",
        "\n",
        "# 문자열을 list로 형변환하면 쉽게 문제를 해결할 수 있습니다.\n",
        "\n",
        "# 코드 작성\n",
        "def make_list(string):\n",
        "    return list(string)\n",
        "\n",
        "make_list(\"abcd\")"
      ]
    },
    {
      "cell_type": "markdown",
      "metadata": {
        "id": "M29GdFyH0D7b"
      },
      "source": [
        "### 234\n",
        "\n",
        "숫자로 구성된 하나의 리스트를 입력받아, 짝수들을 추출하여 리스트로 반환하는 pickup_even 함수를 구현하라.   \n",
        "\n",
        "정답 예시  \n",
        "pickup_even([3, 4, 5, 6, 7, 8])   \n",
        "[4, 6, 8]   "
      ]
    },
    {
      "cell_type": "code",
      "execution_count": 10,
      "metadata": {
        "colab": {
          "base_uri": "https://localhost:8080/"
        },
        "id": "C--gvKbH0cXR",
        "outputId": "e6c1fa8f-4f9d-4446-c26b-9140ea85a1e6"
      },
      "outputs": [
        {
          "data": {
            "text/plain": [
              "[2, 4, 6, 4, 32, 2, 4, 6]"
            ]
          },
          "execution_count": 10,
          "metadata": {},
          "output_type": "execute_result"
        }
      ],
      "source": [
        "# 코드 작성\n",
        "def pickup_even(lst):\n",
        "    lst_ = []\n",
        "    for i in lst:\n",
        "        if i % 2 == 0:\n",
        "            lst_.append(i)\n",
        "    return lst_\n",
        "\n",
        "pickup_even([2,3,4,5,7,7,6,4,32,2,21,35,67,7,5,3,4,6,43])"
      ]
    },
    {
      "cell_type": "markdown",
      "metadata": {
        "id": "DsgeYe470ch3"
      },
      "source": [
        "### 235\n",
        "\n",
        "콤마가 포함된 문자열 숫자를 입력받아 정수로 변환하는 convert_int 함수를 정의하라.   \n",
        "\n",
        "convert_int(\"1,234,567\")   \n",
        "1234567   "
      ]
    },
    {
      "cell_type": "code",
      "execution_count": 12,
      "metadata": {
        "colab": {
          "base_uri": "https://localhost:8080/"
        },
        "id": "F-HM1ue70eoP",
        "outputId": "88e8bd23-8561-40db-dd2d-c8b711c14c19"
      },
      "outputs": [
        {
          "data": {
            "text/plain": [
              "1234567"
            ]
          },
          "execution_count": 12,
          "metadata": {},
          "output_type": "execute_result"
        }
      ],
      "source": [
        "# 코드 작성\n",
        "def convert_int(string):\n",
        "    return int(''.join(string.split(',')))\n",
        "\n",
        "convert_int(\"1,234,567\")"
      ]
    },
    {
      "cell_type": "markdown",
      "metadata": {
        "id": "WwnmOwxu0D9I"
      },
      "source": [
        "### 236\n",
        "\n",
        "아래 코드의 실행 결과를 예측하라."
      ]
    },
    {
      "cell_type": "code",
      "execution_count": 13,
      "metadata": {
        "id": "YteuNNc20D_3"
      },
      "outputs": [
        {
          "name": "stdout",
          "output_type": "stream",
          "text": [
            "22\n"
          ]
        }
      ],
      "source": [
        "def 함수(num) :\n",
        "    return num + 4\n",
        "\n",
        "a = 함수(10)\n",
        "b = 함수(a)\n",
        "c = 함수(b)\n",
        "print(c)\n",
        "\n",
        "\n",
        "#4번 라인에서 함수로 10이 입력돼서 14가 반환됩니다. a 변수에는 14가 저장됩니다. \n",
        "#5번 라인에서 함수로 14가 입력돼서 18이 반환됩니다. 변수 b에는 18이 바인딩됩니다. \n",
        "#6번 라인에서 함수로 18가 입력돼서 22가 반환됩니다. 변수 c에는 22가 바인딩됩니다."
      ]
    },
    {
      "cell_type": "markdown",
      "metadata": {
        "id": "VsvP2bnz0EDx"
      },
      "source": [
        "### 237\n",
        "\n",
        "아래 코드의 실행 결과를 예측하라."
      ]
    },
    {
      "cell_type": "code",
      "execution_count": 14,
      "metadata": {
        "colab": {
          "base_uri": "https://localhost:8080/"
        },
        "id": "ypJc-B3g0EHL",
        "outputId": "5709990e-d04a-407f-daff-a86a6decbcbe"
      },
      "outputs": [
        {
          "name": "stdout",
          "output_type": "stream",
          "text": [
            "22\n"
          ]
        }
      ],
      "source": [
        "def 함수(num) :\n",
        "    return num + 4\n",
        "\n",
        "c = 함수(함수(함수(10)))\n",
        "print(c)\n",
        "\n",
        "#함수가 여러번 중첩돼 있습니다. 안쪽 부터 차례로 해석하면 됩니다. \n",
        "#함수(10)의 결과 14, 함수(14) 결과 18, 함수(18) 결과 22 가 반환됩니다. \n",
        "#결국 36번과 동일한 코드를 축약해서 작성해 놓은 겁니다."
      ]
    },
    {
      "cell_type": "markdown",
      "metadata": {
        "id": "mbCPpSRJ0EK-"
      },
      "source": [
        "### 238\n",
        "\n",
        "아래 코드의 실행 결과를 예측하라."
      ]
    },
    {
      "cell_type": "code",
      "execution_count": 15,
      "metadata": {
        "colab": {
          "base_uri": "https://localhost:8080/"
        },
        "id": "4M74RDlT0EOX",
        "outputId": "80a1b8ca-236b-4942-819a-2ded18af7db2"
      },
      "outputs": [
        {
          "data": {
            "text/plain": [
              "140"
            ]
          },
          "execution_count": 15,
          "metadata": {},
          "output_type": "execute_result"
        }
      ],
      "source": [
        "def 함수1(num) :\n",
        "    return num + 4\n",
        "\n",
        "def 함수2(num) :\n",
        "    return num * 10\n",
        "\n",
        "a = 함수1(10)\n",
        "c = 함수2(a)\n",
        "\n",
        "c\n",
        "\n",
        "#7번 라인에서 함수1으로 10이 입력돼서 14가 반환됩니다. \n",
        "#a 변수에는 14가 저장됩니다. 8번 라인에서 함수2로 a에 저장된 14가 입력돼서 140이 반환됩니다. \n",
        "#변수 c에는 140이 바인딩됩니다.\n",
        "# 140"
      ]
    },
    {
      "cell_type": "markdown",
      "metadata": {
        "id": "RPbb7cW60Cks"
      },
      "source": [
        "### 239\n",
        "\n",
        "아래 코드의 실행 결과를 예측하라."
      ]
    },
    {
      "cell_type": "code",
      "execution_count": 16,
      "metadata": {
        "colab": {
          "base_uri": "https://localhost:8080/"
        },
        "id": "9gEhBJzn0Cov",
        "outputId": "f3de2f4d-26a9-4359-c787-ff61d7656ce4"
      },
      "outputs": [
        {
          "data": {
            "text/plain": [
              "16"
            ]
          },
          "execution_count": 16,
          "metadata": {},
          "output_type": "execute_result"
        }
      ],
      "source": [
        "def 함수1(num) :\n",
        "    return num + 4\n",
        "\n",
        "def 함수2(num) :\n",
        "    num = num + 2\n",
        "    return 함수1(num)\n",
        "\n",
        "c = 함수2(10)\n",
        "\n",
        "c\n",
        "\n",
        "#8번 함수2가 호출됩니다. 4번 라인으로 파이썬 인터프리터는 이동하고 이때 num에는 10이 바인딩됩니다. \n",
        "#5번 라인 코드를 실행하면 num이 12로 업데이트 됩니다. 6번라인의 코드를 실행하려고 하는데, 함수1이 호출됩니다. \n",
        "#1번 라인의 함수 정의부로 이동하며 num 값은 12로 바인딩됩니다. 2번 라인의 코드가 실행돼서 16이 반환됩니다. \n",
        "#함수1의 동작을 끝마치고 함수 2의 6번 라인으로 돌아오고 함수2도 return을 만나면서 16을 반환합니다. \n",
        "#8번 라인으로 돌아와 c 변수에는 16을 바인딩합니다."
      ]
    },
    {
      "cell_type": "markdown",
      "metadata": {
        "id": "hFwHzD6B0DE9"
      },
      "source": [
        "### 240\n",
        "\n",
        "아래 코드의 실행 결과를 예측하라."
      ]
    },
    {
      "cell_type": "code",
      "execution_count": 17,
      "metadata": {
        "colab": {
          "base_uri": "https://localhost:8080/"
        },
        "id": "RJHMCogj0DIu",
        "outputId": "de027f9b-9ea4-4213-de32-d64e6abc5c39"
      },
      "outputs": [
        {
          "name": "stdout",
          "output_type": "stream",
          "text": [
            "28\n"
          ]
        }
      ],
      "source": [
        "def 함수0(num) :\n",
        "    return num * 2\n",
        "\n",
        "def 함수1(num) :\n",
        "    return 함수0(num + 2)\n",
        "\n",
        "def 함수2(num) :\n",
        "    num = num + 10\n",
        "    return 함수1(num)\n",
        "\n",
        "c = 함수2(2)\n",
        "print(c)"
      ]
    },
    {
      "cell_type": "code",
      "execution_count": 20,
      "metadata": {
        "id": "VDFSGCMtI5UW"
      },
      "outputs": [
        {
          "name": "stdout",
          "output_type": "stream",
          "text": [
            "문장 실행 중!\n",
            "문장 실행 중!\n",
            "문장 실행 중!\n",
            "문장 실행 중!\n",
            "문장 실행 중!\n",
            "문장 실행 중!\n",
            "문장 실행 중!\n",
            "문장 실행 중!\n",
            "문장 실행 중!\n",
            "문장 실행 중!\n",
            "문장 실행 중!\n"
          ]
        }
      ],
      "source": [
        "i = 0\n",
        "while True:\n",
        "    print(\"문장 실행 중!\")\n",
        "    i += 1\n",
        "    if i > 10 : break"
      ]
    },
    {
      "cell_type": "code",
      "execution_count": 21,
      "metadata": {},
      "outputs": [
        {
          "data": {
            "text/plain": [
              "11"
            ]
          },
          "execution_count": 21,
          "metadata": {},
          "output_type": "execute_result"
        }
      ],
      "source": [
        "i"
      ]
    }
  ],
  "metadata": {
    "colab": {
      "provenance": []
    },
    "kernelspec": {
      "display_name": "Python 3.10.6 ('env')",
      "language": "python",
      "name": "python3"
    },
    "language_info": {
      "codemirror_mode": {
        "name": "ipython",
        "version": 3
      },
      "file_extension": ".py",
      "mimetype": "text/x-python",
      "name": "python",
      "nbconvert_exporter": "python",
      "pygments_lexer": "ipython3",
      "version": "3.10.6"
    },
    "vscode": {
      "interpreter": {
        "hash": "a39879ae9ccb927afc0cf2ce944a9e89e93d1a75059893b60dcfa8646ca8faf1"
      }
    }
  },
  "nbformat": 4,
  "nbformat_minor": 0
}
