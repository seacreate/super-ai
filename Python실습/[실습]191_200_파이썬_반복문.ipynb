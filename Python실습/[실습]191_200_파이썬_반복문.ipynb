{
  "cells": [
    {
      "cell_type": "markdown",
      "metadata": {
        "id": "yGdpkoNcaGrz"
      },
      "source": [
        "### 191\n",
        "\n",
        "data에는 매수한 종목들의 OHLC (open/high/low/close) 가격 정보가 바인딩 되어있다.    \n",
        "\n",
        "data = [    \n",
        "    [ 2000,  3050,  2050,  1980],    \n",
        "    [ 7500,  2050,  2050,  1980],    \n",
        "    [15450, 15050, 15550, 14900]    \n",
        "]    \n",
        "\n",
        "수수료를 0.014 %로 가정할 때, 각 가격에 수수료를 포함한 가격을 한라인에 하나씩 출력하라.    \n",
        "\n",
        "2000.28    \n",
        "3050.427    \n",
        "2050.2870000000003    \n",
        "...    "
      ]
    },
    {
      "cell_type": "code",
      "execution_count": 3,
      "metadata": {
        "id": "GIoh0dbqaYzp"
      },
      "outputs": [
        {
          "name": "stdout",
          "output_type": "stream",
          "text": [
            "2000.28\n",
            "3050.427\n",
            "2050.287\n",
            "1980.2772\n",
            "7501.05\n",
            "2050.287\n",
            "2050.287\n",
            "1980.2772\n",
            "15452.163\n",
            "15052.107\n",
            "15552.177\n",
            "14902.086\n"
          ]
        }
      ],
      "source": [
        "data = [\n",
        "    [ 2000,  3050,  2050,  1980],\n",
        "    [ 7500,  2050,  2050,  1980],\n",
        "    [15450, 15050, 15550, 14900]\n",
        "]\n",
        "\n",
        "# 코드 작성\n",
        "for stock in data:\n",
        "    for fee in stock:\n",
        "        print(fee + fee * 0.014 / 100)"
      ]
    },
    {
      "cell_type": "markdown",
      "metadata": {
        "id": "RBI1S7q5aY5d"
      },
      "source": [
        "### 192\n",
        "\n",
        "191번의 출력 결과에 행단위로 \"----\" 구분자를 추가하라.   \n",
        "\n",
        "2000.28   \n",
        "3050.427   \n",
        "2050.2870000000003   \n",
        "1980.2772   \n",
        "\\----   \n",
        "7501.05   \n",
        "2050.2870000000003   \n",
        "2050.2870000000003   \n",
        "1980.2772   \n",
        "\\----   \n",
        "15452.163   \n",
        "15052.107   \n",
        "15552.177   \n",
        "14902.086000000001   \n",
        "\\----   "
      ]
    },
    {
      "cell_type": "code",
      "execution_count": 4,
      "metadata": {
        "id": "1P5tvsKQaY9p"
      },
      "outputs": [
        {
          "name": "stdout",
          "output_type": "stream",
          "text": [
            "2000.28\n",
            "3050.427\n",
            "2050.287\n",
            "1980.2772\n",
            "-----\n",
            "7501.05\n",
            "2050.287\n",
            "2050.287\n",
            "1980.2772\n",
            "-----\n",
            "15452.163\n",
            "15052.107\n",
            "15552.177\n",
            "14902.086\n",
            "-----\n"
          ]
        }
      ],
      "source": [
        "data = [\n",
        "    [ 2000,  3050,  2050,  1980],\n",
        "    [ 7500,  2050,  2050,  1980],\n",
        "    [15450, 15050, 15550, 14900]\n",
        "]\n",
        "\n",
        "# 코드 작성\n",
        "for stock in data:\n",
        "    for fee in stock:\n",
        "        print(fee + fee * 0.014 / 100)\n",
        "    print(\"-----\")"
      ]
    },
    {
      "cell_type": "markdown",
      "metadata": {
        "id": "dI64FFzuaZBE"
      },
      "source": [
        "### 193\n",
        "\n",
        "192 번 문제의 결괏값을 result 이름의 리스트에 1차원 배열로 저장하라.   \n",
        "\n",
        "print(result)   \n",
        "[2000.28, 3050.427, 2050.2870000000003, 1980.2772, 7501.05, 2050.2870000000003, 2050.2870000000003, ...]   "
      ]
    },
    {
      "cell_type": "code",
      "execution_count": 6,
      "metadata": {
        "colab": {
          "base_uri": "https://localhost:8080/"
        },
        "id": "eT6jSrWraZEk",
        "outputId": "0388317d-fb4e-4fe2-c1a5-2ccc1f0800f6"
      },
      "outputs": [
        {
          "name": "stdout",
          "output_type": "stream",
          "text": [
            "[2000.28, 3050.427, 2050.287, 1980.2772, 7501.05, 2050.287, 2050.287, 1980.2772, 15452.163, 15052.107, 15552.177, 14902.086]\n"
          ]
        }
      ],
      "source": [
        "data = [\n",
        "    [ 2000,  3050,  2050,  1980],\n",
        "    [ 7500,  2050,  2050,  1980],\n",
        "    [15450, 15050, 15550, 14900]\n",
        "]\n",
        "result = []\n",
        "# 코드 작성\n",
        "for stock in data:\n",
        "    for fee in stock:\n",
        "        output = fee + fee * 0.014 / 100\n",
        "        result.append(output)\n",
        "\n",
        "print(result)\n",
        "    "
      ]
    },
    {
      "cell_type": "markdown",
      "metadata": {
        "id": "k_Njncw_aZIG"
      },
      "source": [
        "### 194\n",
        "\n",
        "191번 문제의 결괏값을 result 이름의 리스트에 2차원 배열로 저장하라.   \n",
        "저장 포맷은 아래와 같다. 각 행에 대한 데이터끼리 리스트에 저장되어야 한다.   \n",
        "\n",
        "print(result)   \n",
        "[   \n",
        " [2000.28, 3050.427, 2050.2870000000003, 1980.2772],   \n",
        " [7501.05, 2050.2870000000003, 2050.2870000000003, 1980.2772],   \n",
        " [15452.163, 15052.107, 15552.177, 14902.086000000001]   \n",
        "]   "
      ]
    },
    {
      "cell_type": "code",
      "execution_count": 8,
      "metadata": {
        "id": "kAqamRbSaZLk"
      },
      "outputs": [
        {
          "data": {
            "text/plain": [
              "[[2000.28, 3050.427, 2050.287, 1980.2772],\n",
              " [7501.05, 2050.287, 2050.287, 1980.2772],\n",
              " [15452.163, 15052.107, 15552.177, 14902.086]]"
            ]
          },
          "execution_count": 8,
          "metadata": {},
          "output_type": "execute_result"
        }
      ],
      "source": [
        "data = [\n",
        "    [ 2000,  3050,  2050,  1980],\n",
        "    [ 7500,  2050,  2050,  1980],\n",
        "    [15450, 15050, 15550, 14900]\n",
        "]\n",
        "result = []\n",
        "# 코드 작성\n",
        "for stock in data:\n",
        "    temp = []\n",
        "    for fee in stock:\n",
        "        temp.append(fee + fee * 0.014 / 100)\n",
        "    result.append(temp)\n",
        "result"
      ]
    },
    {
      "cell_type": "markdown",
      "metadata": {},
      "source": []
    },
    {
      "cell_type": "markdown",
      "metadata": {
        "id": "wK_Sz69eaZPG"
      },
      "source": [
        "### 195\n",
        "\n",
        "ohlc 리스트에는 시가(open), 고가 (high), 저가 (low) , 종가(close)가 날짜별로 저장돼 있다.    \n",
        "화면에 종가데이터를 출력하라.    \n",
        "\n",
        "ohlc = [[\"open\", \"high\", \"low\", \"close\"],    \n",
        "        [100, 110, 70, 100],    \n",
        "        [200, 210, 180, 190],    \n",
        "        [300, 310, 300, 310]]    \n",
        "\n",
        "결과확인   \n",
        "100    \n",
        "190    \n",
        "310    "
      ]
    },
    {
      "cell_type": "code",
      "execution_count": 10,
      "metadata": {
        "id": "9kJlGysYaZTQ"
      },
      "outputs": [
        {
          "name": "stdout",
          "output_type": "stream",
          "text": [
            "100\n",
            "190\n",
            "310\n"
          ]
        }
      ],
      "source": [
        "ohlc = [[\"open\", \"high\", \"low\", \"close\"],    \n",
        "        [100, 110, 70, 100],    \n",
        "        [200, 210, 180, 190],    \n",
        "        [300, 310, 300, 310]]\n",
        "\n",
        "# 코드 작성\n",
        "for i in ohlc[1:]:\n",
        "    print(i[-1])\n"
      ]
    },
    {
      "cell_type": "markdown",
      "metadata": {
        "id": "90klE0ldaZWM"
      },
      "source": [
        "### 196\n",
        "\n",
        "ohlc 리스트에는 시가(open), 고가 (high), 저가 (low) , 종가(close)가 날짜별로 저장돼 있다.     \n",
        "종가가 150원보다 큰경우에만 종가를 출력하라.        \n",
        "\n",
        "ohlc = [[\"open\", \"high\", \"low\", \"close\"],        \n",
        "        [100, 110, 70, 100],    \n",
        "        [200, 210, 180, 190],   \n",
        "        [300, 310, 300, 310]]   \n",
        "190     \n",
        "310     "
      ]
    },
    {
      "cell_type": "code",
      "execution_count": 12,
      "metadata": {
        "colab": {
          "base_uri": "https://localhost:8080/"
        },
        "id": "7A2mtVdNaZaO",
        "outputId": "79325169-ea0b-45fe-bf44-d46bf68ad42a"
      },
      "outputs": [
        {
          "name": "stdout",
          "output_type": "stream",
          "text": [
            "190\n",
            "310\n"
          ]
        }
      ],
      "source": [
        "ohlc = [[\"open\", \"high\", \"low\", \"close\"],\n",
        "        [100, 110, 70, 100],\n",
        "        [200, 210, 180, 190],\n",
        "        [300, 310, 300, 310]]\n",
        "\n",
        "# 코드 작성\n",
        "for i in ohlc[1:]:\n",
        "    close = i[-1]\n",
        "    if close > 150:\n",
        "        print(close)"
      ]
    },
    {
      "cell_type": "markdown",
      "metadata": {
        "id": "8PVksNngaZdY"
      },
      "source": [
        "### 197\n",
        "\n",
        "ohlc 리스트에는 시가(open), 고가 (high), 저가 (low) , 종가(close)가 날짜별로 저장돼 있다.   \n",
        "종가가 시가 보다 크거나 같은 경우에만 종가를 출력하라.   \n",
        "\n",
        "ohlc = [[\"open\", \"high\", \"low\", \"close\"],   \n",
        "        [100, 110, 70, 100],   \n",
        "        [200, 210, 180, 190],   \n",
        "        [300, 310, 300, 310]]   \n",
        "100   \n",
        "310   "
      ]
    },
    {
      "cell_type": "code",
      "execution_count": 13,
      "metadata": {
        "id": "wjaUSyDSaZg8"
      },
      "outputs": [
        {
          "name": "stdout",
          "output_type": "stream",
          "text": [
            "100\n",
            "310\n"
          ]
        }
      ],
      "source": [
        "ohlc = [[\"open\", \"high\", \"low\", \"close\"],   \n",
        "        [100, 110, 70, 100],\n",
        "        [200, 210, 180, 190],\n",
        "        [300, 310, 300, 310]]\n",
        "\n",
        "# 코드 작성\n",
        "for i in ohlc[1:]:\n",
        "    if i[-1] >= i[0]:\n",
        "        print(i[-1])"
      ]
    },
    {
      "cell_type": "markdown",
      "metadata": {
        "id": "-1BuH4nJaZkK"
      },
      "source": [
        "### 198\n",
        "\n",
        "ohlc 리스트에는 시가(open), 고가 (high), 저가 (low) , 종가(close)가 날짜별로 저장돼 있다.   \n",
        "고가와 저가의 차이를 변동폭으로 정의할 때 변동폭을 volatility 이름의 리스트에 저장하라.   \n",
        "\n",
        "ohlc = [[\"open\", \"high\", \"low\", \"close\"],   \n",
        "        [100, 110, 70, 100],   \n",
        "        [200, 210, 180, 190],   \n",
        "        [300, 310, 300, 310]]   \n",
        "\n",
        "print(volatility)   \n",
        "[40, 30, 10]   "
      ]
    },
    {
      "cell_type": "code",
      "execution_count": 16,
      "metadata": {
        "id": "1K9b4vN7aZnq"
      },
      "outputs": [
        {
          "name": "stdout",
          "output_type": "stream",
          "text": [
            "[40, 30, 10]\n"
          ]
        }
      ],
      "source": [
        "ohlc = [[\"open\", \"high\", \"low\", \"close\"],\n",
        "        [100, 110, 70, 100],\n",
        "        [200, 210, 180, 190],\n",
        "        [300, 310, 300, 310]]\n",
        "volatility =[]\n",
        "# 코드 작성\n",
        "for i in ohlc[1:]:\n",
        "    volatility.append(i[1]-i[2])\n",
        "    # print(volatility)\n",
        "print(volatility)"
      ]
    },
    {
      "cell_type": "markdown",
      "metadata": {
        "id": "auVUyosWaZrE"
      },
      "source": [
        "### 199\n",
        "\n",
        "리스트에는 3일 간의 ohlc 데이터가 저장돼 있다.   \n",
        "종가가 시가보다 높은 날의 변동성 (고가 - 저가)을 화면에 출력하라.   \n",
        "\n",
        "ohlc = [[\"open\", \"high\", \"low\", \"close\"],   \n",
        "        [100, 110, 70, 100],   \n",
        "        [200, 210, 180, 190],   \n",
        "        [300, 310, 300, 310]]   \n",
        "종가가 시가보다 높은 거래일의 OHLC는 [300, 310, 300, 310] 이다.   \n",
        "따라서 이 거래일의 변동성은 10 (310 - 300)이다.   \n",
        "\n",
        "10   "
      ]
    },
    {
      "cell_type": "code",
      "execution_count": 17,
      "metadata": {
        "id": "ws99S79YaZus"
      },
      "outputs": [
        {
          "name": "stdout",
          "output_type": "stream",
          "text": [
            "10\n"
          ]
        }
      ],
      "source": [
        "ohlc = [[\"open\", \"high\", \"low\", \"close\"],\n",
        "        [100, 110, 70, 100],\n",
        "        [200, 210, 180, 190],\n",
        "        [300, 310, 300, 310]]\n",
        "\n",
        "# 코드 작성\n",
        "for i in ohlc[1:]:\n",
        "    if i[-1] > i[0]:\n",
        "        print(i[1]-i[2])"
      ]
    },
    {
      "cell_type": "markdown",
      "metadata": {
        "id": "DlBTArKJaZyT"
      },
      "source": [
        "### 200\n",
        "\n",
        "리스트에는 3일 간의 ohlc 데이터가 저장돼 있다. 시가에 매수해서 종가에 매도 했을 경우 총 수익금을 계산하라.   \n",
        "\n",
        "ohlc = [[\"open\", \"high\", \"low\", \"close\"],   \n",
        "        [100, 110, 70, 100],   \n",
        "        [200, 210, 180, 190],   \n",
        "        [300, 310, 300, 310]]   \n",
        "1일차 수익 0원 (100 - 100), 2일차 수익 -10원 (190 - 200), 3일차 수익 10원 (310 - 300) 이다.   \n",
        "\n",
        "0   "
      ]
    },
    {
      "cell_type": "code",
      "execution_count": 20,
      "metadata": {
        "id": "4kQNLU-saZ1t"
      },
      "outputs": [
        {
          "name": "stdout",
          "output_type": "stream",
          "text": [
            "0\n"
          ]
        }
      ],
      "source": [
        "ohlc = [[\"open\", \"high\", \"low\", \"close\"],\n",
        "        [100, 110, 70, 100],\n",
        "        [200, 210, 180, 190],\n",
        "        [300, 310, 300, 310]]\n",
        "\n",
        "# 코드 작성\n",
        "total = 0\n",
        "\n",
        "for i in ohlc[1:]:\n",
        "    income = i[-1] - i[0]\n",
        "    total += income\n",
        "#     print(total)\n",
        "print(total)"
      ]
    },
    {
      "cell_type": "code",
      "execution_count": null,
      "metadata": {
        "id": "l-7w_OcNdN_7"
      },
      "outputs": [],
      "source": []
    }
  ],
  "metadata": {
    "colab": {
      "provenance": []
    },
    "kernelspec": {
      "display_name": "Python 3.10.6 ('env')",
      "language": "python",
      "name": "python3"
    },
    "language_info": {
      "codemirror_mode": {
        "name": "ipython",
        "version": 3
      },
      "file_extension": ".py",
      "mimetype": "text/x-python",
      "name": "python",
      "nbconvert_exporter": "python",
      "pygments_lexer": "ipython3",
      "version": "3.10.6"
    },
    "vscode": {
      "interpreter": {
        "hash": "a39879ae9ccb927afc0cf2ce944a9e89e93d1a75059893b60dcfa8646ca8faf1"
      }
    }
  },
  "nbformat": 4,
  "nbformat_minor": 0
}
