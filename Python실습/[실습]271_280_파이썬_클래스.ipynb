{
  "cells": [
    {
      "cell_type": "markdown",
      "metadata": {
        "id": "ec9puh9OM-7X"
      },
      "source": [
        "### 271 Account 클래스\n",
        "\n",
        "은행에 가서 계좌를 개설하면 은행이름, 예금주, 계좌번호, 잔액이 설정됩니다. Account 클래스를 생성한 후 생성자를 구현해보세요. 생성자에서는 예금주와 초기 잔액만 입력 받습니다. 은행이름은 SC은행으로 계좌번호는 3자리-2자리-6자리 형태로 랜덤하게 생성됩니다.\n",
        "\n",
        "은행이름: SC은행\n",
        "계좌번호: 111-11-111111"
      ]
    },
    {
      "cell_type": "code",
      "execution_count": 34,
      "metadata": {},
      "outputs": [
        {
          "data": {
            "text/plain": [
              "'071'"
            ]
          },
          "execution_count": 34,
          "metadata": {},
          "output_type": "execute_result"
        }
      ],
      "source": [
        "from random import randint\n",
        "\"%0.3d\" %randint(0,999)"
      ]
    },
    {
      "cell_type": "code",
      "execution_count": 45,
      "metadata": {
        "colab": {
          "base_uri": "https://localhost:8080/"
        },
        "id": "Ta0MKbz9M_g-",
        "outputId": "fca3d6a1-cbc3-4034-8ef4-29ac5abe4096"
      },
      "outputs": [
        {
          "data": {
            "text/plain": [
              "('SC은행', '476-11-3241')"
            ]
          },
          "execution_count": 45,
          "metadata": {},
          "output_type": "execute_result"
        }
      ],
      "source": [
        "# 코드작성\n",
        "from random import randint\n",
        "\n",
        "class Account:\n",
        "    def __init__(self, own: str, remain: int):\n",
        "        self.own = own\n",
        "        self.cash = remain\n",
        "        self.bank = \"SC은행\"\n",
        "        self.account_number = \"%0.3d-%0.2d-%0.4d\" %(randint(0,999), randint(0,99), randint(0,9999))\n",
        "\n",
        "account = Account(\"hchang\", 10)\n",
        "account.bank,account.account_number\n"
      ]
    },
    {
      "cell_type": "markdown",
      "metadata": {
        "id": "MKXCs4BaM_lX"
      },
      "source": [
        "### 272 클래스 변수\n",
        "\n",
        "클래스 변수를 사용해서 Account 클래스로부터 생성된 계좌 객체의 개수를 저장하세요."
      ]
    },
    {
      "cell_type": "code",
      "execution_count": 47,
      "metadata": {
        "colab": {
          "base_uri": "https://localhost:8080/"
        },
        "id": "oViemziHM_pf",
        "outputId": "afab2650-db72-4fdb-f764-d0ef940a4342"
      },
      "outputs": [
        {
          "name": "stdout",
          "output_type": "stream",
          "text": [
            "0\n",
            "1\n"
          ]
        },
        {
          "data": {
            "text/plain": [
              "['835-33-0910']"
            ]
          },
          "execution_count": 47,
          "metadata": {},
          "output_type": "execute_result"
        }
      ],
      "source": [
        "# 코드작성\n",
        "class Account:\n",
        "    account_count = 0\n",
        "    def __init__(self, own: str, remain: int):\n",
        "        self.own = own\n",
        "        self.cash = remain\n",
        "        self.bank = \"SC은행\"\n",
        "        self.account_numbers = []\n",
        "\n",
        "    def make_account(self):\n",
        "        self.account_count += 1\n",
        "        self.account_numbers.append(\"%0.3d-%0.2d-%0.4d\" %(randint(0,999), randint(0,99), randint(0,9999)))\n",
        "\n",
        "account = Account(\"hchang\", 10)\n",
        "print(account.account_count)\n",
        "account.make_account()\n",
        "print(account.account_count)\n",
        "account.account_numbers\n"
      ]
    },
    {
      "cell_type": "code",
      "execution_count": 49,
      "metadata": {},
      "outputs": [
        {
          "data": {
            "text/plain": [
              "0"
            ]
          },
          "execution_count": 49,
          "metadata": {},
          "output_type": "execute_result"
        }
      ],
      "source": [
        "\n",
        "Account.account_count\n"
      ]
    },
    {
      "cell_type": "markdown",
      "metadata": {
        "id": "XyIDWisoM_tD"
      },
      "source": [
        "### 273 클래스 변수 출력\n",
        "\n",
        "Account 클래스로부터 생성된 계좌의 개수를 출력하는 get_account_num() 메서드를 추가하세요."
      ]
    },
    {
      "cell_type": "code",
      "execution_count": 50,
      "metadata": {
        "colab": {
          "base_uri": "https://localhost:8080/"
        },
        "id": "mF2RnuaIM_wv",
        "outputId": "81903d12-d26c-46bc-e6c4-09a9f4f4f470"
      },
      "outputs": [
        {
          "name": "stdout",
          "output_type": "stream",
          "text": [
            "0\n",
            "1\n"
          ]
        },
        {
          "data": {
            "text/plain": [
              "['267-07-9770']"
            ]
          },
          "execution_count": 50,
          "metadata": {},
          "output_type": "execute_result"
        }
      ],
      "source": [
        "# 코드작성\n",
        "class Account:\n",
        "    account_count = 0\n",
        "    def __init__(self, own: str, remain: int):\n",
        "        self.own = own\n",
        "        self.cash = remain\n",
        "        self.bank = \"SC은행\"\n",
        "        self.account_numbers = []\n",
        "\n",
        "    def make_account(self):\n",
        "        self.account_count += 1\n",
        "        self.account_numbers.append(\"%0.3d-%0.2d-%0.4d\" %(randint(0,999), randint(0,99), randint(0,9999)))\n",
        "\n",
        "    def get_account_num(self):\n",
        "        print(self.account_count)\n",
        "\n",
        "account = Account(\"hchang\", 10)\n",
        "account.get_account_num()\n",
        "account.make_account()\n",
        "account.get_account_num()\n",
        "account.account_numbers"
      ]
    },
    {
      "cell_type": "markdown",
      "metadata": {
        "id": "oRrlez7fM_0D"
      },
      "source": [
        "### 274 입금 메서드\n",
        "\n",
        "Account 클래스에 입금을 위한 deposit 메서드를 추가하세요. 입금은 최소 1원 이상만 가능합니다."
      ]
    },
    {
      "cell_type": "code",
      "execution_count": 51,
      "metadata": {
        "id": "ENEozYHdM_33"
      },
      "outputs": [
        {
          "name": "stdout",
          "output_type": "stream",
          "text": [
            "0\n",
            "1원 이상만 입금 가능합니다.\n",
            "10\n",
            "1110\n"
          ]
        }
      ],
      "source": [
        "# 코드작성\n",
        "class Account:\n",
        "    account_count = 0\n",
        "    def __init__(self, own: str, remain: int):\n",
        "        self.own = own\n",
        "        self.cash = remain\n",
        "        self.bank = \"SC은행\"\n",
        "        self.account_numbers = []\n",
        "\n",
        "    def make_account(self):\n",
        "        self.account_count += 1\n",
        "        self.account_numbers.append(\"%0.3d-%0.2d-%0.4d\" %(randint(0,999), randint(0,99), randint(0,9999)))\n",
        "\n",
        "    def get_account_num(self):\n",
        "        print(self.account_count)\n",
        "\n",
        "    def deposit(self, money: int):\n",
        "        if money >= 1:\n",
        "            self.cash += money\n",
        "        else:\n",
        "            print(\"1원 이상만 입금 가능합니다.\")\n",
        "\n",
        "account = Account(\"hchang\", 10)\n",
        "account.get_account_num()\n",
        "account.make_account()\n",
        "account.deposit(-100)\n",
        "print(account.cash)\n",
        "account.deposit(1100)\n",
        "print(account.cash)\n"
      ]
    },
    {
      "cell_type": "markdown",
      "metadata": {
        "id": "fjpdhKw0NT1G"
      },
      "source": [
        "### 275 출금 메서드\n",
        "\n",
        "Account 클래스에 출금을 위한 withdraw 메서드를 추가하세요. 출금은 계좌의 잔고 이상으로 출금할 수는 없습니다."
      ]
    },
    {
      "cell_type": "code",
      "execution_count": 53,
      "metadata": {
        "colab": {
          "base_uri": "https://localhost:8080/"
        },
        "id": "zxEEcmDvNT5Z",
        "outputId": "1eaa284e-1450-4d94-fc12-f91153d3496a"
      },
      "outputs": [
        {
          "name": "stdout",
          "output_type": "stream",
          "text": [
            "0\n",
            "1원 이상만 입금 가능합니다.\n",
            "10\n",
            "1110\n",
            "1원 이상 금액부터 출금이 가능합니다.\n",
            "잔액: 1100\n",
            "잔액: 1000\n",
            "잔액: 0\n",
            "잔액이 부족합니다.\n"
          ]
        }
      ],
      "source": [
        "# 코드작성\n",
        "class Account:\n",
        "    account_count = 0\n",
        "    def __init__(self, own: str, remain: int):\n",
        "        self.own = own\n",
        "        self.cash = remain\n",
        "        self.bank = \"SC은행\"\n",
        "        self.account_numbers = []\n",
        "\n",
        "    def make_account(self):\n",
        "        self.account_count += 1\n",
        "        self.account_numbers.append(\"%0.3d-%0.2d-%0.4d\" %(randint(0,999), randint(0,99), randint(0,9999)))\n",
        "\n",
        "    def get_account_num(self):\n",
        "        print(self.account_count)\n",
        "\n",
        "    def deposit(self, money: int):\n",
        "        if money >= 1:\n",
        "            self.cash += money\n",
        "        else:\n",
        "            print(\"1원 이상만 입금 가능합니다.\")\n",
        "\n",
        "    def withdraw(self, money: int):\n",
        "        if money >= 1:\n",
        "            if self.cash < money:\n",
        "                print(\"잔액이 부족합니다.\")\n",
        "            else:\n",
        "                self.cash -= money\n",
        "                print(f\"잔액: {self.cash}\")\n",
        "                return money\n",
        "        else:\n",
        "            print(\"1원 이상 금액부터 출금이 가능합니다.\")\n",
        "\n",
        "\n",
        "account = Account(\"hchang\", 10)\n",
        "account.get_account_num()\n",
        "account.make_account()\n",
        "account.deposit(-100)\n",
        "print(account.cash)\n",
        "account.deposit(1100)\n",
        "print(account.cash)\n",
        "account.withdraw(0)\n",
        "account.withdraw(10)\n",
        "account.withdraw(100)\n",
        "account.withdraw(1000)\n",
        "account.withdraw(10)\n",
        "\n"
      ]
    },
    {
      "cell_type": "markdown",
      "metadata": {
        "id": "JhRRDU7dM_-x"
      },
      "source": [
        "### 276 정보 출력 메서드\n",
        "\n",
        "Account 인스턴스에 저장된 정보를 출력하는 display_info() 메서드를 추가하세요. 잔고는 세자리마다 쉼표를 출력하세요.\n",
        "\n",
        "은행이름: SC은행  \n",
        "예금주: 파이썬  \n",
        "계좌번호: 111-11-111111  \n",
        "잔고: 10,000원  "
      ]
    },
    {
      "cell_type": "code",
      "execution_count": 59,
      "metadata": {
        "colab": {
          "base_uri": "https://localhost:8080/"
        },
        "id": "MeM0JHEiNACW",
        "outputId": "34cbf643-b56f-4ff5-ce08-0b5aa6cd27b2"
      },
      "outputs": [
        {
          "name": "stdout",
          "output_type": "stream",
          "text": [
            "0\n"
          ]
        },
        {
          "data": {
            "text/plain": [
              "-------------\n",
              "은행이름:\tSC은행\n",
              "예금주:\thchang\n",
              "계좌번호:\t717-86-8945\n",
              "잔고:\t10\n",
              "-------------"
            ]
          },
          "execution_count": 59,
          "metadata": {},
          "output_type": "execute_result"
        }
      ],
      "source": [
        "# 코드작성\n",
        "class Account:\n",
        "    account_count = 0\n",
        "    def __init__(self, own: str, remain: int):\n",
        "        self.own = own\n",
        "        self.cash = remain\n",
        "        self.bank = \"SC은행\"\n",
        "        self.account_numbers = []\n",
        "\n",
        "    def make_account(self):\n",
        "        self.account_count += 1\n",
        "        self.account_numbers.append(\"%0.3d-%0.2d-%0.4d\" %(randint(0,999), randint(0,99), randint(0,9999)))\n",
        "\n",
        "    def get_account_num(self):\n",
        "        print(self.account_count)\n",
        "\n",
        "    def deposit(self, money: int):\n",
        "        if money >= 1:\n",
        "            self.cash += money\n",
        "        else:\n",
        "            print(\"1원 이상만 입금 가능합니다.\")\n",
        "\n",
        "    def withdraw(self, money: int):\n",
        "        if money >= 1:\n",
        "            if self.cash < money:\n",
        "                print(\"잔액이 부족합니다.\")\n",
        "            else:\n",
        "                self.cash -= money\n",
        "                print(f\"잔액: {self.cash}\")\n",
        "                return money\n",
        "        else:\n",
        "            print(\"1원 이상 금액부터 출금이 가능합니다.\")\n",
        "\n",
        "    def display_info(self):\n",
        "        print(f\"은행이름:\\t{self.bank}\\n예금주:\\t{self.own}\\n계좌번호:\\t{self.account_numbers[0]}\\n잔고:\\t{self.cash}\")\n",
        "\n",
        "    def __repr__(self) -> str:\n",
        "        return f\"-------------\\n은행이름:\\t{self.bank}\\n예금주:\\t{self.own}\\n계좌번호:\\t{self.account_numbers[0]}\\n잔고:\\t{self.cash}\\n-------------\\n\"\n",
        "\n",
        "\n",
        "account = Account(\"hchang\", 10)\n",
        "account.get_account_num()\n",
        "account.make_account()\n",
        "# account.display_info()\n",
        "account"
      ]
    },
    {
      "cell_type": "markdown",
      "metadata": {
        "id": "SAe2xvHWNAMp"
      },
      "source": [
        "### 277 이자 지급하기\n",
        "\n",
        "입금 횟수가 5회가 될 때 잔고를 기준으로 1%의 이자가 잔고에 추가되도록 코드를 변경해보세요.\n"
      ]
    },
    {
      "cell_type": "code",
      "execution_count": 67,
      "metadata": {
        "colab": {
          "base_uri": "https://localhost:8080/"
        },
        "id": "4nOkLeztNAPv",
        "outputId": "f42b14fb-9f2c-422a-b3d9-21e7e891fb39"
      },
      "outputs": [
        {
          "name": "stdout",
          "output_type": "stream",
          "text": [
            "1000원이 입금되었습니다.\n",
            "잔액: 2010원\n",
            "1000원이 입금되었습니다.\n",
            "잔액: 3010원\n",
            "1000원이 입금되었습니다.\n",
            "잔액: 4010원\n",
            "1000원이 입금되었습니다.\n",
            "잔액: 5010원\n",
            "1000원이 입금되었습니다.\n",
            "잔액: 6010원\n",
            "이자가 60원 만큼 발생했습니다.\n",
            "잔액: 6070원\n",
            "100원이 입금되었습니다.\n",
            "잔액: 6170원\n",
            "100원이 입금되었습니다.\n",
            "잔액: 6270원\n",
            "100원이 입금되었습니다.\n",
            "잔액: 6370원\n",
            "100원이 입금되었습니다.\n",
            "잔액: 6470원\n",
            "100원이 입금되었습니다.\n",
            "잔액: 6570원\n",
            "이자가 65원 만큼 발생했습니다.\n",
            "잔액: 6635원\n"
          ]
        },
        {
          "data": {
            "text/plain": [
              "-------------\n",
              "은행이름:\tSC은행\n",
              "예금주:\thchang\n",
              "계좌번호:\t974-62-2485\n",
              "잔고:\t6,635원\n",
              "-------------"
            ]
          },
          "execution_count": 67,
          "metadata": {},
          "output_type": "execute_result"
        }
      ],
      "source": [
        "# 코드작성\n",
        "from random import randint\n",
        "\n",
        "class Account:\n",
        "    account_count = 0\n",
        "    def __init__(self, own: str, remain: int):\n",
        "        self.own = own\n",
        "        self.cash = remain\n",
        "        self.bank = \"SC은행\"\n",
        "        self.account_numbers = []\n",
        "        self.make_account()\n",
        "        self.counter = 0\n",
        "\n",
        "    def __repr__(self) -> str:\n",
        "        now_cash = format(self.cash, \",\")\n",
        "        return f\"-------------\\n은행이름:\\t{self.bank}\\n예금주:\\t{self.own}\\n계좌번호:\\t{self.account_numbers[0]}\\n잔고:\\t{now_cash}원\\n-------------\\n\"\n",
        "\n",
        "    def make_account(self):\n",
        "        self.account_count += 1\n",
        "        self.account_numbers.append(\"%0.3d-%0.2d-%0.4d\" %(randint(0,999), randint(0,99), randint(0,9999)))\n",
        "                                    # 007-45-0012\n",
        "    def get_account_num(self):\n",
        "        print(self.account_count)\n",
        "\n",
        "    def deposit(self, money: int): # 입금\n",
        "        if money >= 1:\n",
        "            self.cash += money\n",
        "            self.counter += 1\n",
        "            print(f\"{money}원이 입금되었습니다.\\n잔액: {self.cash}원\")\n",
        "            self.interest()\n",
        "        else:\n",
        "            print(\"1원 이상만 입금 가능합니다.\")\n",
        "\n",
        "    def withdraw(self, money: int):\n",
        "        if money >= 1:\n",
        "            if self.cash < money:\n",
        "                print(\"잔액이 부족합니다.\")\n",
        "            else:\n",
        "                self.cash -= money\n",
        "                print(f\"잔액: {self.cash}\")\n",
        "                return money\n",
        "        else:\n",
        "            print(\"1원 이상 금액부터 출금이 가능합니다.\")\n",
        "\n",
        "    def display_info(self):\n",
        "        print(f\"은행이름:\\t{self.bank}\\n예금주:\\t{self.own}\\n계좌번호:\\t{self.account_numbers[0]}\\n잔고:\\t{self.cash}\")\n",
        "\n",
        "    def interest(self):\n",
        "        if self.counter%5==0:\n",
        "            interest = self.cash // 100\n",
        "            self.cash += interest\n",
        "            print(f\"이자가 {interest}원 만큼 발생했습니다.\\n잔액: {self.cash}원\")\n",
        "\n",
        "\n",
        "\n",
        "\n",
        "account = Account(\"hchang\", 1010)\n",
        "account.deposit(1000)\n",
        "account.deposit(1000)\n",
        "account.deposit(1000)\n",
        "account.deposit(1000)\n",
        "account.deposit(1000)\n",
        "account.deposit(100)\n",
        "account.deposit(100)\n",
        "account.deposit(100)\n",
        "account.deposit(100)\n",
        "account.deposit(100)\n",
        "\n",
        "\n",
        "account"
      ]
    },
    {
      "cell_type": "code",
      "execution_count": 68,
      "metadata": {},
      "outputs": [
        {
          "data": {
            "text/plain": [
              "'1,000,023,460,003,600,000'"
            ]
          },
          "execution_count": 68,
          "metadata": {},
          "output_type": "execute_result"
        }
      ],
      "source": [
        "a = 1000023460003600000\n",
        "format(a,',')"
      ]
    },
    {
      "cell_type": "code",
      "execution_count": 66,
      "metadata": {},
      "outputs": [
        {
          "name": "stdout",
          "output_type": "stream",
          "text": [
            "100\n"
          ]
        }
      ],
      "source": [
        "a = 100\n",
        "print(a)"
      ]
    },
    {
      "cell_type": "markdown",
      "metadata": {
        "id": "wN6dq8yNNAa-"
      },
      "source": [
        "### 278 여러 객체 생성\n",
        "\n",
        "Account 클래스로부터 3개 이상 인스턴스를 생성하고 생성된 인스턴스를 리스트에 저장해보세요."
      ]
    },
    {
      "cell_type": "code",
      "execution_count": 70,
      "metadata": {
        "colab": {
          "base_uri": "https://localhost:8080/"
        },
        "id": "wIVSD989NAeq",
        "outputId": "fa9b5e6c-bf0d-4c59-9232-d485166dcf94"
      },
      "outputs": [],
      "source": [
        "# 코드작성\n",
        "account1 = Account(\"hchang\", 100000)\n",
        "account2 = Account(\"hojin\", 10000)\n",
        "account3 = Account(\"yejin\", 1000000)\n",
        "ac_lst = [account1,account2,account3]\n"
      ]
    },
    {
      "cell_type": "markdown",
      "metadata": {
        "id": "CVKul9MuOVci"
      },
      "source": [
        "### 279 객체 순회\n",
        "\n",
        "반복문을 통해 리스트에 있는 객체를 순회하면서 잔고가 100만원 이상인 고객의 정보만 출력하세요."
      ]
    },
    {
      "cell_type": "code",
      "execution_count": 71,
      "metadata": {
        "colab": {
          "base_uri": "https://localhost:8080/"
        },
        "id": "fm0FodmmACf0",
        "outputId": "b01553f5-a44d-4a22-f904-507648e44000"
      },
      "outputs": [
        {
          "name": "stdout",
          "output_type": "stream",
          "text": [
            "-------------\n",
            "은행이름:\tSC은행\n",
            "예금주:\tyejin\n",
            "계좌번호:\t984-33-2660\n",
            "잔고:\t1,000,000원\n",
            "-------------\n",
            "\n"
          ]
        }
      ],
      "source": [
        "# 코드작성\n",
        "for i in ac_lst:\n",
        "    if i.cash >= 1000000:\n",
        "        print(i)"
      ]
    },
    {
      "cell_type": "markdown",
      "metadata": {
        "id": "swX32b4rACom"
      },
      "source": [
        "### 280 입출금 내역\n",
        "\n",
        "입금과 출금 내역이 기록되도록 코드를 업데이트 하세요. 입금 내역과 출금 내역을 출력하는 deposit_history와 withdraw_history 메서드를 추가하세요."
      ]
    },
    {
      "cell_type": "code",
      "execution_count": 73,
      "metadata": {
        "colab": {
          "base_uri": "https://localhost:8080/"
        },
        "id": "NOqbcF88ACxC",
        "outputId": "f6c5526b-bae7-48c7-e9cc-493a9124fb8a"
      },
      "outputs": [
        {
          "name": "stdout",
          "output_type": "stream",
          "text": [
            "1000원이 입금되었습니다.\n",
            "잔액: 2010원\n",
            "1000원이 입금되었습니다.\n",
            "잔액: 3010원\n",
            "1000원이 입금되었습니다.\n",
            "잔액: 4010원\n",
            "1000원이 입금되었습니다.\n",
            "잔액: 5010원\n",
            "1000원이 입금되었습니다.\n",
            "잔액: 6010원\n",
            "이자가 60원 만큼 발생했습니다.\n",
            "잔액: 6070원\n",
            "잔액: 5970\n",
            "잔액: 5870\n",
            "잔액: 5770\n",
            "잔액: 5670\n",
            "('deposit', 1000, 2010)\n",
            "('deposit', 1000, 3010)\n",
            "('deposit', 1000, 4010)\n",
            "('deposit', 1000, 5010)\n",
            "('deposit', 1000, 6010)\n",
            "('deposit', 60, 6070)\n",
            "('withdraw', 100, 5970)\n",
            "('withdraw', 100, 5870)\n",
            "('withdraw', 100, 5770)\n",
            "('withdraw', 100, 5670)\n"
          ]
        }
      ],
      "source": [
        "# 코드작성\n",
        "from random import randint\n",
        "\n",
        "class Account:\n",
        "    account_count = 0\n",
        "    def __init__(self, own: str, remain: int):\n",
        "        self.own = own\n",
        "        self.cash = remain\n",
        "        self.bank = \"SC은행\"\n",
        "        self.account_numbers = []\n",
        "        self.make_account()\n",
        "        self.counter = 0\n",
        "        self.__history = [] # (\"deposit\"||\"withdraw\",해당금액,잔액)\n",
        "\n",
        "    def __repr__(self) -> str:\n",
        "        now_cash = format(self.cash, \",\")\n",
        "        return f\"-------------\\n은행이름:\\t{self.bank}\\n예금주:\\t{self.own}\\n계좌번호:\\t{self.account_numbers[0]}\\n잔고:\\t{now_cash}원\\n-------------\\n\"\n",
        "\n",
        "    def make_account(self):\n",
        "        self.account_count += 1\n",
        "        self.account_numbers.append(\"%0.3d-%0.2d-%0.4d\" %(randint(0,999), randint(0,99), randint(0,9999)))\n",
        "                                    # 007-45-0012\n",
        "    def get_account_num(self):\n",
        "        print(self.account_count)\n",
        "\n",
        "    def deposit(self, money: int): # 입금\n",
        "        if money >= 1:\n",
        "            self.cash += money\n",
        "            self.counter += 1\n",
        "            print(f\"{money}원이 입금되었습니다.\\n잔액: {self.cash}원\")\n",
        "            self.__history.append((\"deposit\",money,self.cash))\n",
        "            self.interest()\n",
        "        else:\n",
        "            print(\"1원 이상만 입금 가능합니다.\")\n",
        "\n",
        "    def withdraw(self, money: int):\n",
        "        if money >= 1:\n",
        "            if self.cash < money:\n",
        "                print(\"잔액이 부족합니다.\")\n",
        "            else:\n",
        "                self.cash -= money\n",
        "                print(f\"잔액: {self.cash}\")\n",
        "                self.__history.append((\"withdraw\",money,self.cash))\n",
        "                return money\n",
        "        else:\n",
        "            print(\"1원 이상 금액부터 출금이 가능합니다.\")\n",
        "\n",
        "    def display_info(self):\n",
        "        print(f\"은행이름:\\t{self.bank}\\n예금주:\\t{self.own}\\n계좌번호:\\t{self.account_numbers[0]}\\n잔고:\\t{self.cash}\")\n",
        "\n",
        "    def interest(self):\n",
        "        if self.counter%5==0:\n",
        "            interest = self.cash // 100\n",
        "            self.cash += interest\n",
        "            print(f\"이자가 {interest}원 만큼 발생했습니다.\\n잔액: {self.cash}원\")\n",
        "            self.__history.append((\"deposit\",interest,self.cash))\n",
        "\n",
        "\n",
        "    def deposit_history(self):\n",
        "        for i in self.__history:\n",
        "            if i[0]==\"deposit\":\n",
        "                print(i)\n",
        "\n",
        "    def withdraw_history(self):\n",
        "        for i in self.__history:\n",
        "            if i[0]==\"withdraw\":\n",
        "                print(i)\n",
        "\n",
        "\n",
        "\n",
        "account = Account(\"hchang\", 1010)\n",
        "account.deposit(1000)\n",
        "account.deposit(1000)\n",
        "account.deposit(1000)\n",
        "account.deposit(1000)\n",
        "account.deposit(1000)\n",
        "account.withdraw(100)\n",
        "account.withdraw(100)\n",
        "account.withdraw(100)\n",
        "account.withdraw(100)\n",
        "\n",
        "\n",
        "account.deposit_history()\n",
        "account.withdraw_history()"
      ]
    },
    {
      "cell_type": "code",
      "execution_count": 92,
      "metadata": {},
      "outputs": [
        {
          "data": {
            "text/plain": [
              "[[1, 2, 3, 4], [1, 2, 3]]"
            ]
          },
          "execution_count": 92,
          "metadata": {},
          "output_type": "execute_result"
        }
      ],
      "source": [
        "from copy import deepcopy\n",
        "a = [[1,2,3,4],[1,2,3]]\n",
        "b = deepcopy(a)\n",
        "b"
      ]
    },
    {
      "cell_type": "code",
      "execution_count": 93,
      "metadata": {},
      "outputs": [
        {
          "name": "stdout",
          "output_type": "stream",
          "text": [
            "139832401793408\n",
            "139832402366272\n"
          ]
        }
      ],
      "source": [
        "print(id(a))\n",
        "print(id(b))"
      ]
    },
    {
      "cell_type": "code",
      "execution_count": 89,
      "metadata": {},
      "outputs": [
        {
          "data": {
            "text/plain": [
              "[1, 2, 3]"
            ]
          },
          "execution_count": 89,
          "metadata": {},
          "output_type": "execute_result"
        }
      ],
      "source": [
        "b.pop()"
      ]
    },
    {
      "cell_type": "code",
      "execution_count": 90,
      "metadata": {},
      "outputs": [
        {
          "data": {
            "text/plain": [
              "[[1, 100, 3, 4]]"
            ]
          },
          "execution_count": 90,
          "metadata": {},
          "output_type": "execute_result"
        }
      ],
      "source": [
        "b"
      ]
    },
    {
      "cell_type": "code",
      "execution_count": 94,
      "metadata": {},
      "outputs": [],
      "source": [
        "b[0][1] =100"
      ]
    },
    {
      "cell_type": "code",
      "execution_count": 95,
      "metadata": {},
      "outputs": [
        {
          "data": {
            "text/plain": [
              "[[1, 2, 3, 4], [1, 2, 3]]"
            ]
          },
          "execution_count": 95,
          "metadata": {},
          "output_type": "execute_result"
        }
      ],
      "source": [
        "a"
      ]
    },
    {
      "cell_type": "code",
      "execution_count": 84,
      "metadata": {},
      "outputs": [
        {
          "name": "stdout",
          "output_type": "stream",
          "text": [
            "139832662143744\n",
            "139832663331136\n"
          ]
        }
      ],
      "source": [
        "print(id(a))\n",
        "print(id(b))"
      ]
    },
    {
      "cell_type": "code",
      "execution_count": null,
      "metadata": {},
      "outputs": [],
      "source": []
    }
  ],
  "metadata": {
    "colab": {
      "provenance": []
    },
    "kernelspec": {
      "display_name": "Python 3.10.6 ('env')",
      "language": "python",
      "name": "python3"
    },
    "language_info": {
      "codemirror_mode": {
        "name": "ipython",
        "version": 3
      },
      "file_extension": ".py",
      "mimetype": "text/x-python",
      "name": "python",
      "nbconvert_exporter": "python",
      "pygments_lexer": "ipython3",
      "version": "3.10.6"
    },
    "vscode": {
      "interpreter": {
        "hash": "a39879ae9ccb927afc0cf2ce944a9e89e93d1a75059893b60dcfa8646ca8faf1"
      }
    }
  },
  "nbformat": 4,
  "nbformat_minor": 0
}
