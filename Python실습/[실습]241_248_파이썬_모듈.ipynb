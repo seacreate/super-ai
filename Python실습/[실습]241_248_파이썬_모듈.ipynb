{
  "cells": [
    {
      "cell_type": "markdown",
      "metadata": {
        "id": "ec9puh9OM-7X"
      },
      "source": [
        "### 241 현재시간\n",
        "\n",
        "datetime 모듈을 사용해서 현재 시간을 화면에 출력해보세요."
      ]
    },
    {
      "cell_type": "code",
      "execution_count": 1,
      "metadata": {
        "colab": {
          "base_uri": "https://localhost:8080/"
        },
        "id": "Ta0MKbz9M_g-",
        "outputId": "803c9659-67bc-4a18-8b04-bd011a18f217"
      },
      "outputs": [
        {
          "name": "stdout",
          "output_type": "stream",
          "text": [
            "2022-12-01 15:12:04.562610\n"
          ]
        }
      ],
      "source": [
        "import datetime\n",
        "\n",
        "now = datetime.datetime.now()\n",
        "print(now)"
      ]
    },
    {
      "cell_type": "markdown",
      "metadata": {
        "id": "MKXCs4BaM_lX"
      },
      "source": [
        "### 242 현재시간의 타입\n",
        "\n",
        "datetime 모듈의 now 함수의 리턴 값의 타입을 화면에 출력해보세요."
      ]
    },
    {
      "cell_type": "code",
      "execution_count": 2,
      "metadata": {
        "colab": {
          "base_uri": "https://localhost:8080/"
        },
        "id": "oViemziHM_pf",
        "outputId": "4747f210-95c7-463d-eabd-ff97c6ce3e2d"
      },
      "outputs": [
        {
          "name": "stdout",
          "output_type": "stream",
          "text": [
            "2022-12-01 15:12:56.480209 <class 'datetime.datetime'>\n"
          ]
        }
      ],
      "source": [
        "import datetime\n",
        "\n",
        "now = datetime.datetime.now()\n",
        "print(now, type(now))"
      ]
    },
    {
      "cell_type": "markdown",
      "metadata": {
        "id": "XyIDWisoM_tD"
      },
      "source": [
        "### 243 timedelta\n",
        "\n",
        "datetime 모듈의 timedelta를 사용해서 오늘로부터 5일, 4일, 3일, 2일, 1일 전의 날짜를 화면에 출력해보세요."
      ]
    },
    {
      "cell_type": "code",
      "execution_count": 3,
      "metadata": {
        "colab": {
          "base_uri": "https://localhost:8080/"
        },
        "id": "mF2RnuaIM_wv",
        "outputId": "85e58ad1-d9cb-4e2e-ba7c-542081bb5dd3"
      },
      "outputs": [
        {
          "name": "stdout",
          "output_type": "stream",
          "text": [
            "2022-11-26 15:13:28.729929\n",
            "2022-11-27 15:13:28.729929\n",
            "2022-11-28 15:13:28.729929\n",
            "2022-11-29 15:13:28.729929\n",
            "2022-11-30 15:13:28.729929\n"
          ]
        }
      ],
      "source": [
        "import datetime\n",
        "\n",
        "now = datetime.datetime.now()\n",
        "\n",
        "for day in range(5, 0, -1):\n",
        "    delta = datetime.timedelta(days=day)\n",
        "    date = now - delta\n",
        "    print(date)"
      ]
    },
    {
      "cell_type": "markdown",
      "metadata": {
        "id": "oRrlez7fM_0D"
      },
      "source": [
        "### 244 strftime\n",
        "\n",
        "현재시간을 얻어온 후 다음과 같은 포맷으로 시간을 출력해보세요. strftime 메서드를 사용하세요.\n",
        "\n",
        "18:35:01 "
      ]
    },
    {
      "cell_type": "code",
      "execution_count": 4,
      "metadata": {
        "colab": {
          "base_uri": "https://localhost:8080/"
        },
        "id": "ENEozYHdM_33",
        "outputId": "167323bd-467c-456f-f77d-1a68a367032c"
      },
      "outputs": [
        {
          "name": "stdout",
          "output_type": "stream",
          "text": [
            "15:14:23\n"
          ]
        }
      ],
      "source": [
        "import datetime\n",
        "\n",
        "now = datetime.datetime.now()\n",
        "print(now.strftime(\"%H:%M:%S\"))"
      ]
    },
    {
      "cell_type": "markdown",
      "metadata": {
        "id": "fjpdhKw0NT1G"
      },
      "source": [
        "### 245 strptime\n",
        "\n",
        "datetime.datetime.strptime 메서드를 사용하면 문자열 형식의 시간을 datetime.datetime 타입의 시간 값으로 만들어줍니다.   \n",
        "\"2020-05-04\"의 문자열을 시간 타입으로 변환해보세요."
      ]
    },
    {
      "cell_type": "code",
      "execution_count": 7,
      "metadata": {
        "colab": {
          "base_uri": "https://localhost:8080/"
        },
        "id": "zxEEcmDvNT5Z",
        "outputId": "3f71909a-26c3-4d91-c180-6b22b9826620"
      },
      "outputs": [
        {
          "name": "stdout",
          "output_type": "stream",
          "text": [
            "2020-05-04 12:01:12 <class 'datetime.datetime'>\n"
          ]
        }
      ],
      "source": [
        "import datetime\n",
        "\n",
        "day = \"2020-05-04 12:12:01\"\n",
        "ret = datetime.datetime.strptime(day, \"%Y-%m-%d %H:%S:%M\")\n",
        "print(ret, type(ret))"
      ]
    },
    {
      "cell_type": "markdown",
      "metadata": {
        "id": "JhRRDU7dM_-x"
      },
      "source": [
        "### 246 sleep 함수\n",
        "\n",
        "time 모듈, datetime 모듈을 사용해서 1초에 한 번 현재 시간을 출력하는 코드를 작성하세요."
      ]
    },
    {
      "cell_type": "code",
      "execution_count": 10,
      "metadata": {
        "id": "MeM0JHEiNACW"
      },
      "outputs": [
        {
          "name": "stdout",
          "output_type": "stream",
          "text": [
            "2022-12-01 15:18:55.502825\n"
          ]
        },
        {
          "ename": "KeyboardInterrupt",
          "evalue": "",
          "output_type": "error",
          "traceback": [
            "\u001b[0;31m---------------------------------------------------------------------------\u001b[0m",
            "\u001b[0;31mKeyboardInterrupt\u001b[0m                         Traceback (most recent call last)",
            "\u001b[1;32m/home/hchang/Documents/super-ai/Python실습/[실습]241_248_파이썬_모듈.ipynb Cell 12\u001b[0m in \u001b[0;36m<cell line: 5>\u001b[0;34m()\u001b[0m\n\u001b[1;32m      <a href='vscode-notebook-cell:/home/hchang/Documents/super-ai/Python%EC%8B%A4%EC%8A%B5/%5B%E1%84%89%E1%85%B5%E1%86%AF%E1%84%89%E1%85%B3%E1%86%B8%5D241_248_%E1%84%91%E1%85%A1%E1%84%8B%E1%85%B5%E1%84%8A%E1%85%A5%E1%86%AB_%E1%84%86%E1%85%A9%E1%84%83%E1%85%B2%E1%86%AF.ipynb#X14sZmlsZQ%3D%3D?line=6'>7</a>\u001b[0m dis\u001b[39m.\u001b[39mclear_output()\n\u001b[1;32m      <a href='vscode-notebook-cell:/home/hchang/Documents/super-ai/Python%EC%8B%A4%EC%8A%B5/%5B%E1%84%89%E1%85%B5%E1%86%AF%E1%84%89%E1%85%B3%E1%86%B8%5D241_248_%E1%84%91%E1%85%A1%E1%84%8B%E1%85%B5%E1%84%8A%E1%85%A5%E1%86%AB_%E1%84%86%E1%85%A9%E1%84%83%E1%85%B2%E1%86%AF.ipynb#X14sZmlsZQ%3D%3D?line=7'>8</a>\u001b[0m \u001b[39mprint\u001b[39m(now)\n\u001b[0;32m----> <a href='vscode-notebook-cell:/home/hchang/Documents/super-ai/Python%EC%8B%A4%EC%8A%B5/%5B%E1%84%89%E1%85%B5%E1%86%AF%E1%84%89%E1%85%B3%E1%86%B8%5D241_248_%E1%84%91%E1%85%A1%E1%84%8B%E1%85%B5%E1%84%8A%E1%85%A5%E1%86%AB_%E1%84%86%E1%85%A9%E1%84%83%E1%85%B2%E1%86%AF.ipynb#X14sZmlsZQ%3D%3D?line=8'>9</a>\u001b[0m time\u001b[39m.\u001b[39;49msleep(\u001b[39m1\u001b[39;49m)\n",
            "\u001b[0;31mKeyboardInterrupt\u001b[0m: "
          ]
        }
      ],
      "source": [
        "import time\n",
        "import datetime\n",
        "import IPython.display as dis\n",
        "\n",
        "while True:\n",
        "    now = datetime.datetime.now()\n",
        "    dis.clear_output()\n",
        "    print(now)\n",
        "    time.sleep(1)"
      ]
    },
    {
      "cell_type": "markdown",
      "metadata": {
        "id": "SAe2xvHWNAMp"
      },
      "source": [
        "### 247 os 모듈\n",
        "\n",
        "os 모듈의 getcwd 함수를 호출하여 현재 디렉터리의 경로를 화면에 출력해보세요."
      ]
    },
    {
      "cell_type": "code",
      "execution_count": 11,
      "metadata": {
        "colab": {
          "base_uri": "https://localhost:8080/"
        },
        "id": "4nOkLeztNAPv",
        "outputId": "e7fdc5d6-fc47-4db7-8ae2-83d5127bd190"
      },
      "outputs": [
        {
          "name": "stdout",
          "output_type": "stream",
          "text": [
            "/home/hchang/Documents/super-ai/Python실습 <class 'str'>\n"
          ]
        }
      ],
      "source": [
        "import os\n",
        "ret = os.getcwd()\n",
        "print(ret, type(ret))"
      ]
    },
    {
      "cell_type": "markdown",
      "metadata": {
        "id": "wN6dq8yNNAa-"
      },
      "source": [
        "### 248 numpy\n",
        "\n",
        "numpy 모듈의 arange 함수를 사용해서 0.0 부터 5.0까지 0.1씩 증가하는 값을 화면에 출력해보세요."
      ]
    },
    {
      "cell_type": "code",
      "execution_count": 13,
      "metadata": {
        "colab": {
          "base_uri": "https://localhost:8080/"
        },
        "id": "wIVSD989NAeq",
        "outputId": "62953c46-3460-473b-a763-6b58be73bf31"
      },
      "outputs": [
        {
          "data": {
            "text/plain": [
              "array([0. , 0.1, 0.2, 0.3, 0.4, 0.5, 0.6, 0.7, 0.8, 0.9, 1. , 1.1, 1.2,\n",
              "       1.3, 1.4, 1.5, 1.6, 1.7, 1.8, 1.9, 2. , 2.1, 2.2, 2.3, 2.4, 2.5,\n",
              "       2.6, 2.7, 2.8, 2.9, 3. , 3.1, 3.2, 3.3, 3.4, 3.5, 3.6, 3.7, 3.8,\n",
              "       3.9, 4. , 4.1, 4.2, 4.3, 4.4, 4.5, 4.6, 4.7, 4.8, 4.9])"
            ]
          },
          "execution_count": 13,
          "metadata": {},
          "output_type": "execute_result"
        }
      ],
      "source": [
        "import numpy\n",
        "# for i in numpy.arange(0, 5, 0.1):\n",
        "#     print(i)\n",
        "numpy.arange(0, 5, 0.1)"
      ]
    },
    {
      "cell_type": "code",
      "execution_count": 15,
      "metadata": {
        "id": "CVKul9MuOVci"
      },
      "outputs": [
        {
          "name": "stdout",
          "output_type": "stream",
          "text": [
            "hi\n",
            "hi\n"
          ]
        }
      ],
      "source": [
        "from time import sleep\n",
        "\n",
        "print(\"hi\")\n",
        "sleep(10)\n",
        "print(\"hi\")\n"
      ]
    },
    {
      "cell_type": "code",
      "execution_count": 21,
      "metadata": {},
      "outputs": [
        {
          "data": {
            "text/plain": [
              "Counter({'f': 8,\n",
              "         'r': 27,\n",
              "         'o': 6,\n",
              "         'm': 4,\n",
              "         ' ': 165,\n",
              "         'a': 4,\n",
              "         't': 23,\n",
              "         'h': 3,\n",
              "         'i': 38,\n",
              "         'p': 11,\n",
              "         'c': 5,\n",
              "         'e': 19,\n",
              "         'l': 8,\n",
              "         '\\n': 27,\n",
              "         '#': 1,\n",
              "         '코': 1,\n",
              "         '드': 1,\n",
              "         '작': 1,\n",
              "         '성': 1,\n",
              "         'd': 4,\n",
              "         'n': 33,\n",
              "         '_': 1,\n",
              "         '5': 7,\n",
              "         'x': 1,\n",
              "         '(': 16,\n",
              "         's': 10,\n",
              "         'g': 12,\n",
              "         ')': 16,\n",
              "         ':': 10,\n",
              "         ',': 4,\n",
              "         '=': 8,\n",
              "         \"'\": 10,\n",
              "         '\"': 2,\n",
              "         '%': 2,\n",
              "         '4': 2,\n",
              "         '[': 3,\n",
              "         ']': 3,\n",
              "         '-': 8,\n",
              "         '/': 1,\n",
              "         '*': 2,\n",
              "         '+': 1,\n",
              "         '!': 8,\n",
              "         'u': 1})"
            ]
          },
          "execution_count": 21,
          "metadata": {},
          "output_type": "execute_result"
        }
      ],
      "source": [
        "from collections import Counter\n",
        "from collections import defaultdict\n",
        "# counter = defaultdict(int)\n",
        "\n",
        "string = '''from math import ceil\n",
        "\n",
        "# 코드 작성\n",
        "def print_5xn(string):\n",
        "    for i in string:\n",
        "        print(i,end='')\n",
        "        \n",
        "    print(\"\\n\")\n",
        "    for i in range(len(string)):\n",
        "        if i % 5==4:\n",
        "            print(string[i])\n",
        "        else:\n",
        "            print(string[i],end='')\n",
        "\n",
        "    print('\\n--------')\n",
        "    length = len(string)\n",
        "    for i in range(ceil(length/5)):\n",
        "        print(string[i*5:i*5+5])\n",
        "\n",
        "    print('\\n!!!!!!!!')\n",
        "    for i, c in enumerate(string):\n",
        "        if i % 5 == 4:\n",
        "            print(c)\n",
        "        else:\n",
        "            print(c,end='')'''\n",
        "\n",
        "counter = Counter(string)\n",
        "counter"
      ]
    },
    {
      "cell_type": "code",
      "execution_count": 32,
      "metadata": {},
      "outputs": [],
      "source": [
        "from typing import *\n",
        "\n",
        "class Solution:\n",
        "    def twoSum(self, nums: List[int], target: int) -> List[int]:\n",
        "        for i in nums:\n",
        "            for j in nums[1:]:\n",
        "                if i + j == target:\n",
        "                    a = nums.index(i) # [2,7,11,15]\n",
        "                    b = nums[a+1:].index(j) # [7,11,15]\n",
        "                    return [a,b+a+1]"
      ]
    },
    {
      "cell_type": "code",
      "execution_count": 33,
      "metadata": {},
      "outputs": [
        {
          "name": "stdout",
          "output_type": "stream",
          "text": [
            "1번 정답입니다!\n",
            "2번 정답입니다!\n",
            "3번 정답입니다!\n"
          ]
        }
      ],
      "source": [
        "data = {}\n",
        "\n",
        "solution = Solution()\n",
        "\n",
        "# solution.twoSum(nums,target) # [0,1]\n",
        "data.update(nums = [2,7,11,15], target = 9, result = [0,1])\n",
        "nums = data['nums']\n",
        "target = data['target']\n",
        "if solution.twoSum(nums,target) == data['result']:\n",
        "    print(\"1번 정답입니다!\")\n",
        "else:\n",
        "    print(\"정답과 다릅니다!\")\n",
        "    print(f\"기대값: {data['result']}\\n반환값: {solution.twoSum(nums,target)}\")\n",
        "data.update(nums = [3,2,4], target = 6, result = [1,2])\n",
        "nums = data['nums']\n",
        "target = data['target']\n",
        "if solution.twoSum(nums,target) == data['result']:\n",
        "    print(\"2번 정답입니다!\")\n",
        "else:\n",
        "    print(\"정답과 다릅니다!\")\n",
        "    print(f\"기대값: {data['result']}\\n반환값: {solution.twoSum(nums,target)}\")\n",
        "data.update(nums = [3,3], target = 6, result = [0,1])\n",
        "nums = data['nums']\n",
        "target = data['target']\n",
        "if solution.twoSum(nums,target) == data['result']:\n",
        "    print(\"3번 정답입니다!\")\n",
        "else:\n",
        "    print(\"정답과 다릅니다!\")\n",
        "    print(f\"기대값: {data['result']}\\n반환값: {solution.twoSum(nums,target)}\")"
      ]
    },
    {
      "cell_type": "code",
      "execution_count": 35,
      "metadata": {},
      "outputs": [
        {
          "name": "stdout",
          "output_type": "stream",
          "text": [
            "0 100\n",
            "1 3\n",
            "2 5\n",
            "3 62\n"
          ]
        }
      ],
      "source": [
        "lst = [100,3,5,62]\n",
        "for i, n in enumerate(lst):\n",
        "    print(i, n)"
      ]
    },
    {
      "cell_type": "code",
      "execution_count": 37,
      "metadata": {},
      "outputs": [
        {
          "name": "stdout",
          "output_type": "stream",
          "text": [
            "0 100\n",
            "1 3\n",
            "2 5\n",
            "3 62\n"
          ]
        }
      ],
      "source": [
        "for i in range(len(lst)):\n",
        "    print(i, lst[i])"
      ]
    },
    {
      "cell_type": "code",
      "execution_count": 54,
      "metadata": {},
      "outputs": [],
      "source": [
        "class Person:\n",
        "    def __init__(self, name, age, address, job=\"확인불가\"):\n",
        "        self.name = name\n",
        "        self.age = age\n",
        "        self.address = address\n",
        "        self.job = job\n",
        "    def hi(self):\n",
        "        print(f\"안녕하세요! 저는 {self.name} 입니다!\")"
      ]
    },
    {
      "cell_type": "code",
      "execution_count": 55,
      "metadata": {},
      "outputs": [],
      "source": [
        "hchang = Person(\"해창\",15,\"서울\",\"강사\")\n",
        "[\"해창\", 15, \"서울\"]\n",
        "hojin = {\n",
        "    \"이름\":\"호진\",\n",
        "    \"직업\":\"파일럿\"\n",
        "}"
      ]
    },
    {
      "cell_type": "code",
      "execution_count": 56,
      "metadata": {},
      "outputs": [
        {
          "name": "stdout",
          "output_type": "stream",
          "text": [
            "안녕하세요! 저는 해창 입니다!\n"
          ]
        }
      ],
      "source": [
        "hchang.hi()"
      ]
    },
    {
      "cell_type": "code",
      "execution_count": 52,
      "metadata": {},
      "outputs": [],
      "source": [
        "class Hi:\n",
        "    name = \"hi\"\n",
        "    def hi():\n",
        "        print(\"hi!!\")\n"
      ]
    },
    {
      "cell_type": "code",
      "execution_count": 59,
      "metadata": {},
      "outputs": [
        {
          "name": "stdout",
          "output_type": "stream",
          "text": [
            "hi!!\n"
          ]
        }
      ],
      "source": [
        "Hi.hi()"
      ]
    },
    {
      "cell_type": "code",
      "execution_count": 58,
      "metadata": {},
      "outputs": [
        {
          "ename": "TypeError",
          "evalue": "Hi.hi() takes 0 positional arguments but 1 was given",
          "output_type": "error",
          "traceback": [
            "\u001b[0;31m---------------------------------------------------------------------------\u001b[0m",
            "\u001b[0;31mTypeError\u001b[0m                                 Traceback (most recent call last)",
            "\u001b[1;32m/home/hchang/Documents/super-ai/Python실습/[실습]241_248_파이썬_모듈.ipynb Cell 28\u001b[0m in \u001b[0;36m<cell line: 1>\u001b[0;34m()\u001b[0m\n\u001b[0;32m----> <a href='vscode-notebook-cell:/home/hchang/Documents/super-ai/Python%EC%8B%A4%EC%8A%B5/%5B%E1%84%89%E1%85%B5%E1%86%AF%E1%84%89%E1%85%B3%E1%86%B8%5D241_248_%E1%84%91%E1%85%A1%E1%84%8B%E1%85%B5%E1%84%8A%E1%85%A5%E1%86%AB_%E1%84%86%E1%85%A9%E1%84%83%E1%85%B2%E1%86%AF.ipynb#X36sZmlsZQ%3D%3D?line=0'>1</a>\u001b[0m hi\u001b[39m.\u001b[39;49mhi()\n",
            "\u001b[0;31mTypeError\u001b[0m: Hi.hi() takes 0 positional arguments but 1 was given"
          ]
        }
      ],
      "source": [
        "hi.hi()"
      ]
    }
  ],
  "metadata": {
    "colab": {
      "provenance": []
    },
    "kernelspec": {
      "display_name": "Python 3.10.6 ('env')",
      "language": "python",
      "name": "python3"
    },
    "language_info": {
      "codemirror_mode": {
        "name": "ipython",
        "version": 3
      },
      "file_extension": ".py",
      "mimetype": "text/x-python",
      "name": "python",
      "nbconvert_exporter": "python",
      "pygments_lexer": "ipython3",
      "version": "3.10.6"
    },
    "vscode": {
      "interpreter": {
        "hash": "a39879ae9ccb927afc0cf2ce944a9e89e93d1a75059893b60dcfa8646ca8faf1"
      }
    }
  },
  "nbformat": 4,
  "nbformat_minor": 0
}
