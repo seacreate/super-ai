{
  "nbformat": 4,
  "nbformat_minor": 0,
  "metadata": {
    "colab": {
      "provenance": []
    },
    "kernelspec": {
      "name": "python3",
      "display_name": "Python 3"
    },
    "language_info": {
      "name": "python"
    }
  },
  "cells": [
    {
      "cell_type": "markdown",
      "metadata": {
        "id": "ec9puh9OM-7X"
      },
      "source": [
        "### 241 현재시간\n",
        "\n",
        "datetime 모듈을 사용해서 현재 시간을 화면에 출력해보세요."
      ]
    },
    {
      "cell_type": "code",
      "metadata": {
        "colab": {
          "base_uri": "https://localhost:8080/"
        },
        "id": "Ta0MKbz9M_g-",
        "outputId": "803c9659-67bc-4a18-8b04-bd011a18f217"
      },
      "source": [
        "import datetime\n",
        "\n",
        "now = datetime.datetime.now()\n",
        "print(now)"
      ],
      "execution_count": null,
      "outputs": [
        {
          "output_type": "stream",
          "text": [
            "2021-08-16 04:29:38.173013\n"
          ],
          "name": "stdout"
        }
      ]
    },
    {
      "cell_type": "markdown",
      "metadata": {
        "id": "MKXCs4BaM_lX"
      },
      "source": [
        "### 242 현재시간의 타입\n",
        "\n",
        "datetime 모듈의 now 함수의 리턴 값의 타입을 화면에 출력해보세요."
      ]
    },
    {
      "cell_type": "code",
      "metadata": {
        "colab": {
          "base_uri": "https://localhost:8080/"
        },
        "id": "oViemziHM_pf",
        "outputId": "4747f210-95c7-463d-eabd-ff97c6ce3e2d"
      },
      "source": [
        "import datetime\n",
        "\n",
        "now = datetime.datetime.now()\n",
        "print(now, type(now))"
      ],
      "execution_count": null,
      "outputs": [
        {
          "output_type": "stream",
          "text": [
            "2021-08-16 04:29:38.221767 <class 'datetime.datetime'>\n"
          ],
          "name": "stdout"
        }
      ]
    },
    {
      "cell_type": "markdown",
      "metadata": {
        "id": "XyIDWisoM_tD"
      },
      "source": [
        "### 243 timedelta\n",
        "\n",
        "datetime 모듈의 timedelta를 사용해서 오늘로부터 5일, 4일, 3일, 2일, 1일 전의 날짜를 화면에 출력해보세요."
      ]
    },
    {
      "cell_type": "code",
      "metadata": {
        "colab": {
          "base_uri": "https://localhost:8080/"
        },
        "id": "mF2RnuaIM_wv",
        "outputId": "85e58ad1-d9cb-4e2e-ba7c-542081bb5dd3"
      },
      "source": [
        "import datetime\n",
        "\n",
        "now = datetime.datetime.now()\n",
        "\n",
        "for day in range(5, 0, -1):\n",
        "    delta = datetime.timedelta(days=day)\n",
        "    date = now - delta\n",
        "    print(date)"
      ],
      "execution_count": null,
      "outputs": [
        {
          "output_type": "stream",
          "text": [
            "2021-08-11 04:29:38.249327\n",
            "2021-08-12 04:29:38.249327\n",
            "2021-08-13 04:29:38.249327\n",
            "2021-08-14 04:29:38.249327\n",
            "2021-08-15 04:29:38.249327\n"
          ],
          "name": "stdout"
        }
      ]
    },
    {
      "cell_type": "markdown",
      "metadata": {
        "id": "oRrlez7fM_0D"
      },
      "source": [
        "### 244 strftime\n",
        "\n",
        "현재시간을 얻어온 후 다음과 같은 포맷으로 시간을 출력해보세요. strftime 메서드를 사용하세요.\n",
        "\n",
        "18:35:01 "
      ]
    },
    {
      "cell_type": "code",
      "metadata": {
        "colab": {
          "base_uri": "https://localhost:8080/"
        },
        "id": "ENEozYHdM_33",
        "outputId": "167323bd-467c-456f-f77d-1a68a367032c"
      },
      "source": [
        "import datetime\n",
        "\n",
        "now = datetime.datetime.now()\n",
        "print(now.strftime(\"%H:%M:%S\"))"
      ],
      "execution_count": null,
      "outputs": [
        {
          "output_type": "stream",
          "text": [
            "04:29:38\n"
          ],
          "name": "stdout"
        }
      ]
    },
    {
      "cell_type": "markdown",
      "metadata": {
        "id": "fjpdhKw0NT1G"
      },
      "source": [
        "### 245 strptime\n",
        "\n",
        "datetime.datetime.strptime 메서드를 사용하면 문자열 형식의 시간을 datetime.datetime 타입의 시간 값으로 만들어줍니다.   \n",
        "\"2020-05-04\"의 문자열을 시간 타입으로 변환해보세요."
      ]
    },
    {
      "cell_type": "code",
      "metadata": {
        "colab": {
          "base_uri": "https://localhost:8080/"
        },
        "id": "zxEEcmDvNT5Z",
        "outputId": "3f71909a-26c3-4d91-c180-6b22b9826620"
      },
      "source": [
        "import datetime\n",
        "\n",
        "day = \"2020-05-04\"\n",
        "ret = datetime.datetime.strptime(day, \"%Y-%m-%d\")\n",
        "print(ret, type(ret))"
      ],
      "execution_count": null,
      "outputs": [
        {
          "output_type": "stream",
          "text": [
            "2020-05-04 00:00:00 <class 'datetime.datetime'>\n"
          ],
          "name": "stdout"
        }
      ]
    },
    {
      "cell_type": "markdown",
      "metadata": {
        "id": "JhRRDU7dM_-x"
      },
      "source": [
        "### 246 sleep 함수\n",
        "\n",
        "time 모듈, datetime 모듈을 사용해서 1초에 한 번 현재 시간을 출력하는 코드를 작성하세요."
      ]
    },
    {
      "cell_type": "code",
      "metadata": {
        "id": "MeM0JHEiNACW"
      },
      "source": [
        "import time\n",
        "import datetime\n",
        "\n",
        "while True:\n",
        "    now = datetime.datetime.now()\n",
        "    print(now)\n",
        "    time.sleep(1)"
      ],
      "execution_count": null,
      "outputs": []
    },
    {
      "cell_type": "markdown",
      "metadata": {
        "id": "SAe2xvHWNAMp"
      },
      "source": [
        "### 247 os 모듈\n",
        "\n",
        "os 모듈의 getcwd 함수를 호출하여 현재 디렉터리의 경로를 화면에 출력해보세요."
      ]
    },
    {
      "cell_type": "code",
      "metadata": {
        "colab": {
          "base_uri": "https://localhost:8080/"
        },
        "id": "4nOkLeztNAPv",
        "outputId": "e7fdc5d6-fc47-4db7-8ae2-83d5127bd190"
      },
      "source": [
        "import os\n",
        "ret = os.getcwd()\n",
        "print(ret, type(ret))비밀번호"
      ],
      "execution_count": null,
      "outputs": [
        {
          "output_type": "stream",
          "text": [
            "/content <class 'str'>\n"
          ],
          "name": "stdout"
        }
      ]
    },
    {
      "cell_type": "markdown",
      "metadata": {
        "id": "wN6dq8yNNAa-"
      },
      "source": [
        "### 248 numpy\n",
        "\n",
        "numpy 모듈의 arange 함수를 사용해서 0.0 부터 5.0까지 0.1씩 증가하는 값을 화면에 출력해보세요."
      ]
    },
    {
      "cell_type": "code",
      "metadata": {
        "colab": {
          "base_uri": "https://localhost:8080/"
        },
        "id": "wIVSD989NAeq",
        "outputId": "62953c46-3460-473b-a763-6b58be73bf31"
      },
      "source": [
        "import numpy\n",
        "for i in numpy.arange(0, 5, 0.1):\n",
        "    print(i)"
      ],
      "execution_count": null,
      "outputs": [
        {
          "output_type": "stream",
          "text": [
            "0.0\n",
            "0.1\n",
            "0.2\n",
            "0.30000000000000004\n",
            "0.4\n",
            "0.5\n",
            "0.6000000000000001\n",
            "0.7000000000000001\n",
            "0.8\n",
            "0.9\n",
            "1.0\n",
            "1.1\n",
            "1.2000000000000002\n",
            "1.3\n",
            "1.4000000000000001\n",
            "1.5\n",
            "1.6\n",
            "1.7000000000000002\n",
            "1.8\n",
            "1.9000000000000001\n",
            "2.0\n",
            "2.1\n",
            "2.2\n",
            "2.3000000000000003\n",
            "2.4000000000000004\n",
            "2.5\n",
            "2.6\n",
            "2.7\n",
            "2.8000000000000003\n",
            "2.9000000000000004\n",
            "3.0\n",
            "3.1\n",
            "3.2\n",
            "3.3000000000000003\n",
            "3.4000000000000004\n",
            "3.5\n",
            "3.6\n",
            "3.7\n",
            "3.8000000000000003\n",
            "3.9000000000000004\n",
            "4.0\n",
            "4.1000000000000005\n",
            "4.2\n",
            "4.3\n",
            "4.4\n",
            "4.5\n",
            "4.6000000000000005\n",
            "4.7\n",
            "4.800000000000001\n",
            "4.9\n"
          ],
          "name": "stdout"
        }
      ]
    },
    {
      "cell_type": "code",
      "metadata": {
        "id": "CVKul9MuOVci"
      },
      "source": [],
      "execution_count": null,
      "outputs": []
    }
  ]
}